{
 "cells": [
  {
   "cell_type": "code",
   "execution_count": null,
   "metadata": {},
   "outputs": [],
   "source": [
    "C2 = 20\n",
    "f = 1000 # frequency [Hz]\n",
    "c = 346 # speed of sound in air [m/s]\n",
    "wavelength = c/f\n",
    "\n",
    "e = 1 # distance between the screens in the direction of the source and receiver [m]\n",
    "d_ss = 1 # perpendicular distance from source to plane of screen [m]\n",
    "d_sr = 1 # perpendicular distance from plane of screen to receiver [m]"
   ]
  }
 ],
 "metadata": {
  "language_info": {
   "name": "python"
  }
 },
 "nbformat": 4,
 "nbformat_minor": 2
}
