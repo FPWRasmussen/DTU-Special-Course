{
 "cells": [
  {
   "cell_type": "markdown",
   "metadata": {},
   "source": [
    "# TEST NOTEBOOK"
   ]
  },
  {
   "cell_type": "code",
   "execution_count": 1,
   "metadata": {},
   "outputs": [
    {
     "data": {
      "text/html": [
       "<div class=\"highlight\" style=\"background: #202020\"><pre style=\"line-height: 125%;\"><span></span><a id=\"True-1\" name=\"True-1\" href=\"#True-1\"></a><span style=\"color: #6ebf26; font-weight: bold\">def</span> <span style=\"color: #71adff\">find_coeffs</span><span style=\"color: #d0d0d0\">(pa,</span> <span style=\"color: #d0d0d0\">pb):</span> <span style=\"color: #ababab; font-style: italic\"># https://stackoverflow.com/questions/14177744/how-does-perspective-transformation-work-in-pil</span>\n",
       "<a id=\"True-2\" name=\"True-2\" href=\"#True-2\"></a>    <span style=\"color: #d0d0d0\">matrix</span> <span style=\"color: #d0d0d0\">=</span> <span style=\"color: #d0d0d0\">[]</span>\n",
       "<a id=\"True-3\" name=\"True-3\" href=\"#True-3\"></a>    <span style=\"color: #6ebf26; font-weight: bold\">for</span> <span style=\"color: #d0d0d0\">p1,</span> <span style=\"color: #d0d0d0\">p2</span> <span style=\"color: #6ebf26; font-weight: bold\">in</span> <span style=\"color: #2fbccd\">zip</span><span style=\"color: #d0d0d0\">(pa,</span> <span style=\"color: #d0d0d0\">pb):</span>\n",
       "<a id=\"True-4\" name=\"True-4\" href=\"#True-4\"></a>        <span style=\"color: #d0d0d0\">matrix.append([p1[</span><span style=\"color: #51b2fd\">0</span><span style=\"color: #d0d0d0\">],</span> <span style=\"color: #d0d0d0\">p1[</span><span style=\"color: #51b2fd\">1</span><span style=\"color: #d0d0d0\">],</span> <span style=\"color: #51b2fd\">1</span><span style=\"color: #d0d0d0\">,</span> <span style=\"color: #51b2fd\">0</span><span style=\"color: #d0d0d0\">,</span> <span style=\"color: #51b2fd\">0</span><span style=\"color: #d0d0d0\">,</span> <span style=\"color: #51b2fd\">0</span><span style=\"color: #d0d0d0\">,</span> <span style=\"color: #d0d0d0\">-p2[</span><span style=\"color: #51b2fd\">0</span><span style=\"color: #d0d0d0\">]*p1[</span><span style=\"color: #51b2fd\">0</span><span style=\"color: #d0d0d0\">],</span> <span style=\"color: #d0d0d0\">-p2[</span><span style=\"color: #51b2fd\">0</span><span style=\"color: #d0d0d0\">]*p1[</span><span style=\"color: #51b2fd\">1</span><span style=\"color: #d0d0d0\">]])</span>\n",
       "<a id=\"True-5\" name=\"True-5\" href=\"#True-5\"></a>        <span style=\"color: #d0d0d0\">matrix.append([</span><span style=\"color: #51b2fd\">0</span><span style=\"color: #d0d0d0\">,</span> <span style=\"color: #51b2fd\">0</span><span style=\"color: #d0d0d0\">,</span> <span style=\"color: #51b2fd\">0</span><span style=\"color: #d0d0d0\">,</span> <span style=\"color: #d0d0d0\">p1[</span><span style=\"color: #51b2fd\">0</span><span style=\"color: #d0d0d0\">],</span> <span style=\"color: #d0d0d0\">p1[</span><span style=\"color: #51b2fd\">1</span><span style=\"color: #d0d0d0\">],</span> <span style=\"color: #51b2fd\">1</span><span style=\"color: #d0d0d0\">,</span> <span style=\"color: #d0d0d0\">-p2[</span><span style=\"color: #51b2fd\">1</span><span style=\"color: #d0d0d0\">]*p1[</span><span style=\"color: #51b2fd\">0</span><span style=\"color: #d0d0d0\">],</span> <span style=\"color: #d0d0d0\">-p2[</span><span style=\"color: #51b2fd\">1</span><span style=\"color: #d0d0d0\">]*p1[</span><span style=\"color: #51b2fd\">1</span><span style=\"color: #d0d0d0\">]])</span>\n",
       "<a id=\"True-6\" name=\"True-6\" href=\"#True-6\"></a>\n",
       "<a id=\"True-7\" name=\"True-7\" href=\"#True-7\"></a>    <span style=\"color: #d0d0d0\">A</span> <span style=\"color: #d0d0d0\">=</span> <span style=\"color: #d0d0d0\">np.matrix(matrix,</span> <span style=\"color: #d0d0d0\">dtype=</span><span style=\"color: #2fbccd\">float</span><span style=\"color: #d0d0d0\">)</span>\n",
       "<a id=\"True-8\" name=\"True-8\" href=\"#True-8\"></a>    <span style=\"color: #d0d0d0\">B</span> <span style=\"color: #d0d0d0\">=</span> <span style=\"color: #d0d0d0\">np.array(pb).reshape(</span><span style=\"color: #51b2fd\">8</span><span style=\"color: #d0d0d0\">)</span>\n",
       "<a id=\"True-9\" name=\"True-9\" href=\"#True-9\"></a>\n",
       "<a id=\"True-10\" name=\"True-10\" href=\"#True-10\"></a>    <span style=\"color: #d0d0d0\">res</span> <span style=\"color: #d0d0d0\">=</span> <span style=\"color: #d0d0d0\">np.dot(np.linalg.inv(A.T</span> <span style=\"color: #d0d0d0\">*</span> <span style=\"color: #d0d0d0\">A)</span> <span style=\"color: #d0d0d0\">*</span> <span style=\"color: #d0d0d0\">A.T,</span> <span style=\"color: #d0d0d0\">B)</span>\n",
       "<a id=\"True-11\" name=\"True-11\" href=\"#True-11\"></a>    <span style=\"color: #6ebf26; font-weight: bold\">return</span> <span style=\"color: #d0d0d0\">np.array(res).reshape(</span><span style=\"color: #51b2fd\">8</span><span style=\"color: #d0d0d0\">)</span>\n",
       "</pre></div>\n"
      ],
      "text/plain": [
       "<IPython.core.display.HTML object>"
      ]
     },
     "execution_count": 1,
     "metadata": {},
     "output_type": "execute_result"
    }
   ],
   "source": [
    "from utils import find_coeffs, print_code\n",
    "import inspect\n",
    "from subprocess import check_output\n",
    "from IPython.core.display import HTML\n",
    "\n",
    "output = print_code(find_coeffs)\n",
    "HTML(output)"
   ]
  },
  {
   "cell_type": "code",
   "execution_count": 22,
   "metadata": {},
   "outputs": [
    {
     "name": "stdout",
     "output_type": "stream",
     "text": [
      "def find_coeffs(pa, pb): # https://stackoverflow.com/questions/14177744/how-does-perspective-transformation-work-in-pil\n",
      "    matrix = []\n",
      "    for p1, p2 in zip(pa, pb):\n",
      "        matrix.append([p1[0], p1[1], 1, 0, 0, 0, -p2[0]*p1[0], -p2[0]*p1[1]])\n",
      "        matrix.append([0, 0, 0, p1[0], p1[1], 1, -p2[1]*p1[0], -p2[1]*p1[1]])\n",
      "\n",
      "    A = np.matrix(matrix, dtype=float)\n",
      "    B = np.array(pb).reshape(8)\n",
      "\n",
      "    res = np.dot(np.linalg.inv(A.T * A) * A.T, B)\n",
      "    return np.array(res).reshape(8)\n",
      "\n"
     ]
    }
   ],
   "source": [
    "print(inspect.getsource(find_coeffs))"
   ]
  },
  {
   "cell_type": "code",
   "execution_count": 23,
   "metadata": {},
   "outputs": [
    {
     "data": {
      "text/html": [
       "\n",
       "\n",
       "<style>\n",
       ".code {\n",
       "    text-align: left;\n",
       "    background-color: black; /* Set the background color */\n",
       "    }\n",
       "</style>\n",
       "\n",
       "<div class=\"code\">\n",
       "<div class=\"highlight\" style=\"background: #202020\"><table class=\"highlighttable\"><tr><td class=\"linenos\"><div class=\"linenodiv\"><pre><span style=\"color: #aaaaaa; background-color: transparent; padding-left: 5px; padding-right: 5px;\"> 1</span>\n",
       "<span style=\"color: #aaaaaa; background-color: transparent; padding-left: 5px; padding-right: 5px;\"> 2</span>\n",
       "<span style=\"color: #aaaaaa; background-color: transparent; padding-left: 5px; padding-right: 5px;\"> 3</span>\n",
       "<span style=\"color: #aaaaaa; background-color: transparent; padding-left: 5px; padding-right: 5px;\"> 4</span>\n",
       "<span style=\"color: #aaaaaa; background-color: transparent; padding-left: 5px; padding-right: 5px;\"> 5</span>\n",
       "<span style=\"color: #aaaaaa; background-color: transparent; padding-left: 5px; padding-right: 5px;\"> 6</span>\n",
       "<span style=\"color: #aaaaaa; background-color: transparent; padding-left: 5px; padding-right: 5px;\"> 7</span>\n",
       "<span style=\"color: #aaaaaa; background-color: transparent; padding-left: 5px; padding-right: 5px;\"> 8</span>\n",
       "<span style=\"color: #aaaaaa; background-color: transparent; padding-left: 5px; padding-right: 5px;\"> 9</span>\n",
       "<span style=\"color: #aaaaaa; background-color: transparent; padding-left: 5px; padding-right: 5px;\">10</span>\n",
       "<span style=\"color: #aaaaaa; background-color: transparent; padding-left: 5px; padding-right: 5px;\">11</span></pre></div></td><td class=\"code\"><div><pre style=\"line-height: 125%;\"><span></span><a id=\"True-1\" name=\"True-1\"></a><span style=\"color: #6ebf26; font-weight: bold\">def</span> <span style=\"color: #71adff\">find_coeffs</span><span style=\"color: #d0d0d0\">(pa,</span> <span style=\"color: #d0d0d0\">pb):</span> <span style=\"color: #ababab; font-style: italic\"># https://stackoverflow.com/questions/14177744/how-does-perspective-transformation-work-in-pil</span>\n",
       "<a id=\"True-2\" name=\"True-2\"></a>    <span style=\"color: #d0d0d0\">matrix</span> <span style=\"color: #d0d0d0\">=</span> <span style=\"color: #d0d0d0\">[]</span>\n",
       "<a id=\"True-3\" name=\"True-3\"></a>    <span style=\"color: #6ebf26; font-weight: bold\">for</span> <span style=\"color: #d0d0d0\">p1,</span> <span style=\"color: #d0d0d0\">p2</span> <span style=\"color: #6ebf26; font-weight: bold\">in</span> <span style=\"color: #2fbccd\">zip</span><span style=\"color: #d0d0d0\">(pa,</span> <span style=\"color: #d0d0d0\">pb):</span>\n",
       "<a id=\"True-4\" name=\"True-4\"></a>        <span style=\"color: #d0d0d0\">matrix.append([p1[</span><span style=\"color: #51b2fd\">0</span><span style=\"color: #d0d0d0\">],</span> <span style=\"color: #d0d0d0\">p1[</span><span style=\"color: #51b2fd\">1</span><span style=\"color: #d0d0d0\">],</span> <span style=\"color: #51b2fd\">1</span><span style=\"color: #d0d0d0\">,</span> <span style=\"color: #51b2fd\">0</span><span style=\"color: #d0d0d0\">,</span> <span style=\"color: #51b2fd\">0</span><span style=\"color: #d0d0d0\">,</span> <span style=\"color: #51b2fd\">0</span><span style=\"color: #d0d0d0\">,</span> <span style=\"color: #d0d0d0\">-p2[</span><span style=\"color: #51b2fd\">0</span><span style=\"color: #d0d0d0\">]*p1[</span><span style=\"color: #51b2fd\">0</span><span style=\"color: #d0d0d0\">],</span> <span style=\"color: #d0d0d0\">-p2[</span><span style=\"color: #51b2fd\">0</span><span style=\"color: #d0d0d0\">]*p1[</span><span style=\"color: #51b2fd\">1</span><span style=\"color: #d0d0d0\">]])</span>\n",
       "<a id=\"True-5\" name=\"True-5\"></a>        <span style=\"color: #d0d0d0\">matrix.append([</span><span style=\"color: #51b2fd\">0</span><span style=\"color: #d0d0d0\">,</span> <span style=\"color: #51b2fd\">0</span><span style=\"color: #d0d0d0\">,</span> <span style=\"color: #51b2fd\">0</span><span style=\"color: #d0d0d0\">,</span> <span style=\"color: #d0d0d0\">p1[</span><span style=\"color: #51b2fd\">0</span><span style=\"color: #d0d0d0\">],</span> <span style=\"color: #d0d0d0\">p1[</span><span style=\"color: #51b2fd\">1</span><span style=\"color: #d0d0d0\">],</span> <span style=\"color: #51b2fd\">1</span><span style=\"color: #d0d0d0\">,</span> <span style=\"color: #d0d0d0\">-p2[</span><span style=\"color: #51b2fd\">1</span><span style=\"color: #d0d0d0\">]*p1[</span><span style=\"color: #51b2fd\">0</span><span style=\"color: #d0d0d0\">],</span> <span style=\"color: #d0d0d0\">-p2[</span><span style=\"color: #51b2fd\">1</span><span style=\"color: #d0d0d0\">]*p1[</span><span style=\"color: #51b2fd\">1</span><span style=\"color: #d0d0d0\">]])</span>\n",
       "<a id=\"True-6\" name=\"True-6\"></a>\n",
       "<a id=\"True-7\" name=\"True-7\"></a>    <span style=\"color: #d0d0d0\">A</span> <span style=\"color: #d0d0d0\">=</span> <span style=\"color: #d0d0d0\">np.matrix(matrix,</span> <span style=\"color: #d0d0d0\">dtype=</span><span style=\"color: #2fbccd\">float</span><span style=\"color: #d0d0d0\">)</span>\n",
       "<a id=\"True-8\" name=\"True-8\"></a>    <span style=\"color: #d0d0d0\">B</span> <span style=\"color: #d0d0d0\">=</span> <span style=\"color: #d0d0d0\">np.array(pb).reshape(</span><span style=\"color: #51b2fd\">8</span><span style=\"color: #d0d0d0\">)</span>\n",
       "<a id=\"True-9\" name=\"True-9\"></a>\n",
       "<a id=\"True-10\" name=\"True-10\"></a>    <span style=\"color: #d0d0d0\">res</span> <span style=\"color: #d0d0d0\">=</span> <span style=\"color: #d0d0d0\">np.dot(np.linalg.inv(A.T</span> <span style=\"color: #d0d0d0\">*</span> <span style=\"color: #d0d0d0\">A)</span> <span style=\"color: #d0d0d0\">*</span> <span style=\"color: #d0d0d0\">A.T,</span> <span style=\"color: #d0d0d0\">B)</span>\n",
       "<a id=\"True-11\" name=\"True-11\"></a>    <span style=\"color: #6ebf26; font-weight: bold\">return</span> <span style=\"color: #d0d0d0\">np.array(res).reshape(</span><span style=\"color: #51b2fd\">8</span><span style=\"color: #d0d0d0\">)</span>\n",
       "</pre></div></td></tr></table></div>\n",
       "\n",
       "</div>\n"
      ],
      "text/plain": [
       "<IPython.core.display.HTML object>"
      ]
     },
     "execution_count": 23,
     "metadata": {},
     "output_type": "execute_result"
    }
   ],
   "source": [
    "from utils import find_coeffs\n",
    "import inspect\n",
    "from subprocess import check_output\n",
    "from IPython.core.display import HTML\n",
    "\n",
    "output = check_output([\"pygmentize\", \"-f\", \"html\", \"-O\", \"noclasses,lineanchors,linenos,style=native\", \"-l\", \"python\"],\n",
    "                     input=inspect.getsource(find_coeffs), encoding='ascii')\n",
    "\n",
    "# Define a custom CSS class to align the code to the left\n",
    "custom_css = \"\"\"\n",
    "<style>\n",
    ".code {\n",
    "    text-align: left;\n",
    "    background-color: black; /* Set the background color */\n",
    "    }\n",
    "</style>\n",
    "\"\"\"\n",
    "\n",
    "# Embed the code block in a div with the custom CSS class\n",
    "html_code = f\"\"\"\n",
    "{custom_css}\n",
    "<div class=\"code\">\n",
    "{output}\n",
    "</div>\n",
    "\"\"\"\n",
    "\n",
    "HTML(html_code)\n"
   ]
  },
  {
   "cell_type": "code",
   "execution_count": 24,
   "metadata": {},
   "outputs": [
    {
     "data": {
      "image/png": "[encoded data removed]",
      "text/plain": [
       "<Figure size 640x480 with 1 Axes>"
      ]
     },
     "metadata": {},
     "output_type": "display_data"
    }
   ],
   "source": [
    "import matplotlib.pyplot as plt\n",
    "from mpl_toolkits.mplot3d import Axes3D\n",
    "import numpy as np\n",
    "\n",
    "# Create some example data\n",
    "x = np.linspace(-5, 5, 100)\n",
    "y = np.linspace(-5, 5, 100)\n",
    "X, Y = np.meshgrid(x, y)\n",
    "Z = np.sin(np.sqrt(X**2 + Y**2))\n",
    "\n",
    "fig = plt.figure()\n",
    "ax = fig.add_subplot(111, projection='3d')\n",
    "\n",
    "# Set the view angles using view_init\n",
    "ax.view_init(azim=0, elev=0)\n",
    "\n",
    "# Set the view coordinates by adjusting the axis limits\n",
    "ax.set_xlim(-5, 5)\n",
    "ax.set_ylim(-5, 5)\n",
    "ax.set_zlim(-3, 1)\n",
    "\n",
    "# Plot the 3D surface\n",
    "ax.plot_surface(X, Y, Z, cmap='viridis')\n",
    "\n",
    "plt.show()\n"
   ]
  },
  {
   "cell_type": "code",
   "execution_count": 25,
   "metadata": {},
   "outputs": [
    {
     "name": "stdout",
     "output_type": "stream",
     "text": [
      "(-14, 10)\n"
     ]
    }
   ],
   "source": [
    "def generate_range(mean, height):\n",
    "    # Calculate the lower and upper bounds for the range\n",
    "    lower_bound = min(0, 2*mean - height)\n",
    "    upper_bound = max(height, 2*mean)\n",
    "    \n",
    "    # Return the range as a tuple\n",
    "    return (lower_bound, upper_bound)\n",
    "\n",
    "mean_value = -2\n",
    "height_value = 10\n",
    "result_range = generate_range(mean_value, height_value)\n",
    "print(result_range)"
   ]
  },
  {
   "cell_type": "code",
   "execution_count": 26,
   "metadata": {},
   "outputs": [
    {
     "data": {
      "text/html": [
       "<div class=\"highlight\" style=\"background: #202020\"><pre style=\"line-height: 125%;\"><span></span><a id=\"True-1\" name=\"True-1\" href=\"#True-1\"></a><span style=\"color: #6ebf26; font-weight: bold\">def</span> <span style=\"color: #71adff\">find_coeffs</span><span style=\"color: #d0d0d0\">(pa,</span> <span style=\"color: #d0d0d0\">pb):</span> <span style=\"color: #ababab; font-style: italic\"># https://stackoverflow.com/questions/14177744/how-does-perspective-transformation-work-in-pil</span>\n",
       "<a id=\"True-2\" name=\"True-2\" href=\"#True-2\"></a>    <span style=\"color: #d0d0d0\">matrix</span> <span style=\"color: #d0d0d0\">=</span> <span style=\"color: #d0d0d0\">[]</span>\n",
       "<a id=\"True-3\" name=\"True-3\" href=\"#True-3\"></a>    <span style=\"color: #6ebf26; font-weight: bold\">for</span> <span style=\"color: #d0d0d0\">p1,</span> <span style=\"color: #d0d0d0\">p2</span> <span style=\"color: #6ebf26; font-weight: bold\">in</span> <span style=\"color: #2fbccd\">zip</span><span style=\"color: #d0d0d0\">(pa,</span> <span style=\"color: #d0d0d0\">pb):</span>\n",
       "<a id=\"True-4\" name=\"True-4\" href=\"#True-4\"></a>        <span style=\"color: #d0d0d0\">matrix.append([p1[</span><span style=\"color: #51b2fd\">0</span><span style=\"color: #d0d0d0\">],</span> <span style=\"color: #d0d0d0\">p1[</span><span style=\"color: #51b2fd\">1</span><span style=\"color: #d0d0d0\">],</span> <span style=\"color: #51b2fd\">1</span><span style=\"color: #d0d0d0\">,</span> <span style=\"color: #51b2fd\">0</span><span style=\"color: #d0d0d0\">,</span> <span style=\"color: #51b2fd\">0</span><span style=\"color: #d0d0d0\">,</span> <span style=\"color: #51b2fd\">0</span><span style=\"color: #d0d0d0\">,</span> <span style=\"color: #d0d0d0\">-p2[</span><span style=\"color: #51b2fd\">0</span><span style=\"color: #d0d0d0\">]*p1[</span><span style=\"color: #51b2fd\">0</span><span style=\"color: #d0d0d0\">],</span> <span style=\"color: #d0d0d0\">-p2[</span><span style=\"color: #51b2fd\">0</span><span style=\"color: #d0d0d0\">]*p1[</span><span style=\"color: #51b2fd\">1</span><span style=\"color: #d0d0d0\">]])</span>\n",
       "<a id=\"True-5\" name=\"True-5\" href=\"#True-5\"></a>        <span style=\"color: #d0d0d0\">matrix.append([</span><span style=\"color: #51b2fd\">0</span><span style=\"color: #d0d0d0\">,</span> <span style=\"color: #51b2fd\">0</span><span style=\"color: #d0d0d0\">,</span> <span style=\"color: #51b2fd\">0</span><span style=\"color: #d0d0d0\">,</span> <span style=\"color: #d0d0d0\">p1[</span><span style=\"color: #51b2fd\">0</span><span style=\"color: #d0d0d0\">],</span> <span style=\"color: #d0d0d0\">p1[</span><span style=\"color: #51b2fd\">1</span><span style=\"color: #d0d0d0\">],</span> <span style=\"color: #51b2fd\">1</span><span style=\"color: #d0d0d0\">,</span> <span style=\"color: #d0d0d0\">-p2[</span><span style=\"color: #51b2fd\">1</span><span style=\"color: #d0d0d0\">]*p1[</span><span style=\"color: #51b2fd\">0</span><span style=\"color: #d0d0d0\">],</span> <span style=\"color: #d0d0d0\">-p2[</span><span style=\"color: #51b2fd\">1</span><span style=\"color: #d0d0d0\">]*p1[</span><span style=\"color: #51b2fd\">1</span><span style=\"color: #d0d0d0\">]])</span>\n",
       "<a id=\"True-6\" name=\"True-6\" href=\"#True-6\"></a>\n",
       "<a id=\"True-7\" name=\"True-7\" href=\"#True-7\"></a>    <span style=\"color: #d0d0d0\">A</span> <span style=\"color: #d0d0d0\">=</span> <span style=\"color: #d0d0d0\">np.matrix(matrix,</span> <span style=\"color: #d0d0d0\">dtype=</span><span style=\"color: #2fbccd\">float</span><span style=\"color: #d0d0d0\">)</span>\n",
       "<a id=\"True-8\" name=\"True-8\" href=\"#True-8\"></a>    <span style=\"color: #d0d0d0\">B</span> <span style=\"color: #d0d0d0\">=</span> <span style=\"color: #d0d0d0\">np.array(pb).reshape(</span><span style=\"color: #51b2fd\">8</span><span style=\"color: #d0d0d0\">)</span>\n",
       "<a id=\"True-9\" name=\"True-9\" href=\"#True-9\"></a>\n",
       "<a id=\"True-10\" name=\"True-10\" href=\"#True-10\"></a>    <span style=\"color: #d0d0d0\">res</span> <span style=\"color: #d0d0d0\">=</span> <span style=\"color: #d0d0d0\">np.dot(np.linalg.inv(A.T</span> <span style=\"color: #d0d0d0\">*</span> <span style=\"color: #d0d0d0\">A)</span> <span style=\"color: #d0d0d0\">*</span> <span style=\"color: #d0d0d0\">A.T,</span> <span style=\"color: #d0d0d0\">B)</span>\n",
       "<a id=\"True-11\" name=\"True-11\" href=\"#True-11\"></a>    <span style=\"color: #6ebf26; font-weight: bold\">return</span> <span style=\"color: #d0d0d0\">np.array(res).reshape(</span><span style=\"color: #51b2fd\">8</span><span style=\"color: #d0d0d0\">)</span>\n",
       "</pre></div>\n"
      ],
      "text/plain": [
       "<IPython.core.display.HTML object>"
      ]
     },
     "execution_count": 26,
     "metadata": {},
     "output_type": "execute_result"
    }
   ],
   "source": [
    "from subprocess import check_output\n",
    "from IPython.display import HTML\n",
    "import inspect\n",
    "\n",
    "def pygmentize_source_code(source_code, language=\"python\"):\n",
    "    # Define the Pygmentize command and arguments\n",
    "    command = [\"pygmentize\", \"-f\", \"html\", \"-O\", \"noclasses, lineanchors,style=native\", \"-l\", language]\n",
    "\n",
    "    # Get the HTML output using check_output\n",
    "    output = check_output(command, input=source_code, encoding=\"ascii\")\n",
    "\n",
    "    # Display the HTML using IPython.display\n",
    "    return HTML(output)\n",
    "\n",
    "# Example usage:\n",
    "# def find_coeffs(x, y):\n",
    "#     return x + y\n",
    "\n",
    "source_code = inspect.getsource(find_coeffs)\n",
    "html_output = pygmentize_source_code(source_code, language=\"python\")\n",
    "html_output\n"
   ]
  },
  {
   "cell_type": "code",
   "execution_count": 6,
   "metadata": {},
   "outputs": [
    {
     "name": "stdout",
     "output_type": "stream",
     "text": [
      "Point 1: [ 1.0000000e+01 -1.2246468e-15  0.0000000e+00]\n",
      "Point 2: [-1.0000000e+01  1.2246468e-15  0.0000000e+00]\n"
     ]
    }
   ],
   "source": [
    "import numpy as np\n",
    "\n",
    "def calculate_points(direction, radius, turbine_origin):\n",
    "    angle = np.deg2rad(direction)  # Convert direction to radians if necessary\n",
    "    x_offset = radius * np.cos(angle)\n",
    "    y_offset = radius * np.sin(angle)\n",
    "\n",
    "    point1 = np.array([turbine_origin[0] - x_offset, turbine_origin[1] - y_offset, 0])\n",
    "    point2 = np.array([turbine_origin[0] + x_offset, turbine_origin[1] + y_offset, 0])\n",
    "\n",
    "    return point1, point2\n",
    "\n",
    "# Example usage:\n",
    "direction = 180  # Angle in degrees\n",
    "radius = 10  # Radius\n",
    "turbine_origin = np.array([0, 0, 0])  # Origin point\n",
    "\n",
    "point1, point2 = calculate_points(direction, radius, turbine_origin)\n",
    "print(\"Point 1:\", point1)\n",
    "print(\"Point 2:\", point2)\n"
   ]
  },
  {
   "cell_type": "code",
   "execution_count": 18,
   "metadata": {},
   "outputs": [
    {
     "name": "stdout",
     "output_type": "stream",
     "text": [
      "End position of perpendicular vector 1: [ 1.70710678 -0.29289322]\n",
      "End position of perpendicular vector 2: [ 0.29289322 -1.70710678]\n"
     ]
    }
   ],
   "source": [
    "import numpy as np\n",
    "object_position = np.array([1, -1])  # Replace with your own vector\n",
    "scale_factor = 1\n",
    "\n",
    "def object_frame_boundaries(object_position, scale_factor):\n",
    "\n",
    "    object_position_normalized = object_position / np.linalg.norm(object_position)\n",
    "\n",
    "    # Calculate two perpendicular vectors with a total length of 1\n",
    "    perpendicular_vector1 = np.array([-object_position_normalized[1], object_position_normalized[0]])\n",
    "    perpendicular_vector2 = np.array([object_position_normalized[1], -object_position_normalized[0]])\n",
    "\n",
    "    # Scale the perpendicular vectors to have a total length of scale_factor\n",
    "    scale_factor = 1 / np.linalg.norm(perpendicular_vector1)\n",
    "    perpendicular_vector1 *= scale_factor\n",
    "    perpendicular_vector2 *= scale_factor\n",
    "\n",
    "    # Calculate the end positions of the perpendicular vectors\n",
    "    end_position1 = object_position + perpendicular_vector1\n",
    "    end_position2 = object_position + perpendicular_vector2\n",
    "    return end_position1, end_position2\n",
    "\n",
    "end_position1, end_position2 = object_frame_boundaries(object_position, scale_factor)\n",
    "print(\"End position of perpendicular vector 1:\", end_position1)\n",
    "print(\"End position of perpendicular vector 2:\", end_position2)\n"
   ]
  },
  {
   "cell_type": "code",
   "execution_count": 43,
   "metadata": {},
   "outputs": [
    {
     "name": "stdout",
     "output_type": "stream",
     "text": [
      "End position of perpendicular vector 1: [5.53553391 1.53553391]\n",
      "End position of perpendicular vector 2: [-1.53553391 -5.53553391]\n"
     ]
    }
   ],
   "source": [
    "import numpy as np\n",
    "object_position = np.array([2, -2.0])  # Replace with your own vector\n",
    "scale_factor = 5\n",
    "\n",
    "def object_frame_boundaries(object_position, scale_factor):\n",
    "    perp_vector = np.array([-object_position[1], object_position[0]])\n",
    "    perp_vector = perp_vector/(np.linalg.norm(perp_vector) / scale_factor)\n",
    "    return object_position + perp_vector, object_position - perp_vector\n",
    "end_position1, end_position2 = object_frame_boundaries(object_position, scale_factor)\n",
    "print(\"End position of perpendicular vector 1:\", end_position1)\n",
    "print(\"End position of perpendicular vector 2:\", end_position2)"
   ]
  }
 ],
 "metadata": {
  "kernelspec": {
   "display_name": "WindBro",
   "language": "python",
   "name": "python3"
  },
  "language_info": {
   "codemirror_mode": {
    "name": "ipython",
    "version": 3
   },
   "file_extension": ".py",
   "mimetype": "text/x-python",
   "name": "python",
   "nbconvert_exporter": "python",
   "pygments_lexer": "ipython3",
   "version": "3.11.5"
  },
  "orig_nbformat": 4
 },
 "nbformat": 4,
 "nbformat_minor": 2
}
