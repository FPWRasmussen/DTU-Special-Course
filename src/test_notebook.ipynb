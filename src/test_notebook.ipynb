{
 "cells": [
  {
   "cell_type": "code",
   "execution_count": 23,
   "metadata": {},
   "outputs": [
    {
     "name": "stdout",
     "output_type": "stream",
     "text": [
      "dict_keys(['default', 'emacs', 'friendly', 'friendly_grayscale', 'colorful', 'autumn', 'murphy', 'manni', 'material', 'monokai', 'perldoc', 'pastie', 'borland', 'trac', 'native', 'fruity', 'bw', 'vim', 'vs', 'tango', 'rrt', 'xcode', 'igor', 'paraiso-light', 'paraiso-dark', 'lovelace', 'algol', 'algol_nu', 'arduino', 'rainbow_dash', 'abap', 'solarized-dark', 'solarized-light', 'sas', 'staroffice', 'stata', 'stata-light', 'stata-dark', 'inkpot', 'zenburn', 'gruvbox-dark', 'gruvbox-light', 'dracula', 'one-dark', 'lilypond', 'nord', 'nord-darker', 'github-dark'])\n"
     ]
    },
    {
     "data": {
      "text/html": [
       "<div class=\"highlight\" style=\"background: #202020\"><table class=\"highlighttable\"><tr><td class=\"linenos\"><div class=\"linenodiv\"><pre><span style=\"color: #aaaaaa; background-color: transparent; padding-left: 5px; padding-right: 5px;\"> 1</span>\n",
       "<span style=\"color: #aaaaaa; background-color: transparent; padding-left: 5px; padding-right: 5px;\"> 2</span>\n",
       "<span style=\"color: #aaaaaa; background-color: transparent; padding-left: 5px; padding-right: 5px;\"> 3</span>\n",
       "<span style=\"color: #aaaaaa; background-color: transparent; padding-left: 5px; padding-right: 5px;\"> 4</span>\n",
       "<span style=\"color: #aaaaaa; background-color: transparent; padding-left: 5px; padding-right: 5px;\"> 5</span>\n",
       "<span style=\"color: #aaaaaa; background-color: transparent; padding-left: 5px; padding-right: 5px;\"> 6</span>\n",
       "<span style=\"color: #aaaaaa; background-color: transparent; padding-left: 5px; padding-right: 5px;\"> 7</span>\n",
       "<span style=\"color: #aaaaaa; background-color: transparent; padding-left: 5px; padding-right: 5px;\"> 8</span>\n",
       "<span style=\"color: #aaaaaa; background-color: transparent; padding-left: 5px; padding-right: 5px;\"> 9</span>\n",
       "<span style=\"color: #aaaaaa; background-color: transparent; padding-left: 5px; padding-right: 5px;\">10</span>\n",
       "<span style=\"color: #aaaaaa; background-color: transparent; padding-left: 5px; padding-right: 5px;\">11</span></pre></div></td><td class=\"code\"><div><pre style=\"line-height: 125%;\"><span></span><a id=\"True-1\" name=\"True-1\"></a><span style=\"color: #6ebf26; font-weight: bold\">def</span> <span style=\"color: #71adff\">find_coeffs</span><span style=\"color: #d0d0d0\">(pa,</span> <span style=\"color: #d0d0d0\">pb):</span> <span style=\"color: #ababab; font-style: italic\"># https://stackoverflow.com/questions/14177744/how-does-perspective-transformation-work-in-pil</span>\n",
       "<a id=\"True-2\" name=\"True-2\"></a>    <span style=\"color: #d0d0d0\">matrix</span> <span style=\"color: #d0d0d0\">=</span> <span style=\"color: #d0d0d0\">[]</span>\n",
       "<a id=\"True-3\" name=\"True-3\"></a>    <span style=\"color: #6ebf26; font-weight: bold\">for</span> <span style=\"color: #d0d0d0\">p1,</span> <span style=\"color: #d0d0d0\">p2</span> <span style=\"color: #6ebf26; font-weight: bold\">in</span> <span style=\"color: #2fbccd\">zip</span><span style=\"color: #d0d0d0\">(pa,</span> <span style=\"color: #d0d0d0\">pb):</span>\n",
       "<a id=\"True-4\" name=\"True-4\"></a>        <span style=\"color: #d0d0d0\">matrix.append([p1[</span><span style=\"color: #51b2fd\">0</span><span style=\"color: #d0d0d0\">],</span> <span style=\"color: #d0d0d0\">p1[</span><span style=\"color: #51b2fd\">1</span><span style=\"color: #d0d0d0\">],</span> <span style=\"color: #51b2fd\">1</span><span style=\"color: #d0d0d0\">,</span> <span style=\"color: #51b2fd\">0</span><span style=\"color: #d0d0d0\">,</span> <span style=\"color: #51b2fd\">0</span><span style=\"color: #d0d0d0\">,</span> <span style=\"color: #51b2fd\">0</span><span style=\"color: #d0d0d0\">,</span> <span style=\"color: #d0d0d0\">-p2[</span><span style=\"color: #51b2fd\">0</span><span style=\"color: #d0d0d0\">]*p1[</span><span style=\"color: #51b2fd\">0</span><span style=\"color: #d0d0d0\">],</span> <span style=\"color: #d0d0d0\">-p2[</span><span style=\"color: #51b2fd\">0</span><span style=\"color: #d0d0d0\">]*p1[</span><span style=\"color: #51b2fd\">1</span><span style=\"color: #d0d0d0\">]])</span>\n",
       "<a id=\"True-5\" name=\"True-5\"></a>        <span style=\"color: #d0d0d0\">matrix.append([</span><span style=\"color: #51b2fd\">0</span><span style=\"color: #d0d0d0\">,</span> <span style=\"color: #51b2fd\">0</span><span style=\"color: #d0d0d0\">,</span> <span style=\"color: #51b2fd\">0</span><span style=\"color: #d0d0d0\">,</span> <span style=\"color: #d0d0d0\">p1[</span><span style=\"color: #51b2fd\">0</span><span style=\"color: #d0d0d0\">],</span> <span style=\"color: #d0d0d0\">p1[</span><span style=\"color: #51b2fd\">1</span><span style=\"color: #d0d0d0\">],</span> <span style=\"color: #51b2fd\">1</span><span style=\"color: #d0d0d0\">,</span> <span style=\"color: #d0d0d0\">-p2[</span><span style=\"color: #51b2fd\">1</span><span style=\"color: #d0d0d0\">]*p1[</span><span style=\"color: #51b2fd\">0</span><span style=\"color: #d0d0d0\">],</span> <span style=\"color: #d0d0d0\">-p2[</span><span style=\"color: #51b2fd\">1</span><span style=\"color: #d0d0d0\">]*p1[</span><span style=\"color: #51b2fd\">1</span><span style=\"color: #d0d0d0\">]])</span>\n",
       "<a id=\"True-6\" name=\"True-6\"></a>\n",
       "<a id=\"True-7\" name=\"True-7\"></a>    <span style=\"color: #d0d0d0\">A</span> <span style=\"color: #d0d0d0\">=</span> <span style=\"color: #d0d0d0\">np.matrix(matrix,</span> <span style=\"color: #d0d0d0\">dtype=</span><span style=\"color: #2fbccd\">float</span><span style=\"color: #d0d0d0\">)</span>\n",
       "<a id=\"True-8\" name=\"True-8\"></a>    <span style=\"color: #d0d0d0\">B</span> <span style=\"color: #d0d0d0\">=</span> <span style=\"color: #d0d0d0\">np.array(pb).reshape(</span><span style=\"color: #51b2fd\">8</span><span style=\"color: #d0d0d0\">)</span>\n",
       "<a id=\"True-9\" name=\"True-9\"></a>\n",
       "<a id=\"True-10\" name=\"True-10\"></a>    <span style=\"color: #d0d0d0\">res</span> <span style=\"color: #d0d0d0\">=</span> <span style=\"color: #d0d0d0\">np.dot(np.linalg.inv(A.T</span> <span style=\"color: #d0d0d0\">*</span> <span style=\"color: #d0d0d0\">A)</span> <span style=\"color: #d0d0d0\">*</span> <span style=\"color: #d0d0d0\">A.T,</span> <span style=\"color: #d0d0d0\">B)</span>\n",
       "<a id=\"True-11\" name=\"True-11\"></a>    <span style=\"color: #6ebf26; font-weight: bold\">return</span> <span style=\"color: #d0d0d0\">np.array(res).reshape(</span><span style=\"color: #51b2fd\">8</span><span style=\"color: #d0d0d0\">)</span>\n",
       "</pre></div></td></tr></table></div>\n"
      ],
      "text/plain": [
       "<IPython.core.display.HTML object>"
      ]
     },
     "execution_count": 23,
     "metadata": {},
     "output_type": "execute_result"
    }
   ],
   "source": [
    "from utils import find_coeffs\n",
    "import inspect\n",
    "from subprocess import check_output\n",
    "from IPython.core.display import HTML\n",
    "\n",
    "output = check_output([\"pygmentize\",\"-f\",\"html\",\"-O\",\"noclasses, lineanchors,linenos,style=native\",\"-l\",\"python\"],\n",
    "        input=inspect.getsource(find_coeffs), encoding='ascii')\n",
    "HTML(output)\n",
    "\n"
   ]
  },
  {
   "cell_type": "code",
   "execution_count": 11,
   "metadata": {},
   "outputs": [
    {
     "name": "stdout",
     "output_type": "stream",
     "text": [
      "def test():\n",
      "    print(\"Hello\")\n",
      "    return\n",
      "\n"
     ]
    }
   ],
   "source": [
    "print(inspect.getsource(test))"
   ]
  },
  {
   "cell_type": "code",
   "execution_count": 38,
   "metadata": {},
   "outputs": [
    {
     "data": {
      "text/html": [
       "\n",
       "\n",
       "<style>\n",
       ".code {\n",
       "    text-align: left;\n",
       "    background-color: black; /* Set the background color */\n",
       "    }\n",
       "</style>\n",
       "\n",
       "<div class=\"code\">\n",
       "<div class=\"highlight\" style=\"background: #202020\"><table class=\"highlighttable\"><tr><td class=\"linenos\"><div class=\"linenodiv\"><pre><span style=\"color: #aaaaaa; background-color: transparent; padding-left: 5px; padding-right: 5px;\"> 1</span>\n",
       "<span style=\"color: #aaaaaa; background-color: transparent; padding-left: 5px; padding-right: 5px;\"> 2</span>\n",
       "<span style=\"color: #aaaaaa; background-color: transparent; padding-left: 5px; padding-right: 5px;\"> 3</span>\n",
       "<span style=\"color: #aaaaaa; background-color: transparent; padding-left: 5px; padding-right: 5px;\"> 4</span>\n",
       "<span style=\"color: #aaaaaa; background-color: transparent; padding-left: 5px; padding-right: 5px;\"> 5</span>\n",
       "<span style=\"color: #aaaaaa; background-color: transparent; padding-left: 5px; padding-right: 5px;\"> 6</span>\n",
       "<span style=\"color: #aaaaaa; background-color: transparent; padding-left: 5px; padding-right: 5px;\"> 7</span>\n",
       "<span style=\"color: #aaaaaa; background-color: transparent; padding-left: 5px; padding-right: 5px;\"> 8</span>\n",
       "<span style=\"color: #aaaaaa; background-color: transparent; padding-left: 5px; padding-right: 5px;\"> 9</span>\n",
       "<span style=\"color: #aaaaaa; background-color: transparent; padding-left: 5px; padding-right: 5px;\">10</span>\n",
       "<span style=\"color: #aaaaaa; background-color: transparent; padding-left: 5px; padding-right: 5px;\">11</span></pre></div></td><td class=\"code\"><div><pre style=\"line-height: 125%;\"><span></span><a id=\"True-1\" name=\"True-1\"></a><span style=\"color: #6ebf26; font-weight: bold\">def</span> <span style=\"color: #71adff\">find_coeffs</span><span style=\"color: #d0d0d0\">(pa,</span> <span style=\"color: #d0d0d0\">pb):</span> <span style=\"color: #ababab; font-style: italic\"># https://stackoverflow.com/questions/14177744/how-does-perspective-transformation-work-in-pil</span>\n",
       "<a id=\"True-2\" name=\"True-2\"></a>    <span style=\"color: #d0d0d0\">matrix</span> <span style=\"color: #d0d0d0\">=</span> <span style=\"color: #d0d0d0\">[]</span>\n",
       "<a id=\"True-3\" name=\"True-3\"></a>    <span style=\"color: #6ebf26; font-weight: bold\">for</span> <span style=\"color: #d0d0d0\">p1,</span> <span style=\"color: #d0d0d0\">p2</span> <span style=\"color: #6ebf26; font-weight: bold\">in</span> <span style=\"color: #2fbccd\">zip</span><span style=\"color: #d0d0d0\">(pa,</span> <span style=\"color: #d0d0d0\">pb):</span>\n",
       "<a id=\"True-4\" name=\"True-4\"></a>        <span style=\"color: #d0d0d0\">matrix.append([p1[</span><span style=\"color: #51b2fd\">0</span><span style=\"color: #d0d0d0\">],</span> <span style=\"color: #d0d0d0\">p1[</span><span style=\"color: #51b2fd\">1</span><span style=\"color: #d0d0d0\">],</span> <span style=\"color: #51b2fd\">1</span><span style=\"color: #d0d0d0\">,</span> <span style=\"color: #51b2fd\">0</span><span style=\"color: #d0d0d0\">,</span> <span style=\"color: #51b2fd\">0</span><span style=\"color: #d0d0d0\">,</span> <span style=\"color: #51b2fd\">0</span><span style=\"color: #d0d0d0\">,</span> <span style=\"color: #d0d0d0\">-p2[</span><span style=\"color: #51b2fd\">0</span><span style=\"color: #d0d0d0\">]*p1[</span><span style=\"color: #51b2fd\">0</span><span style=\"color: #d0d0d0\">],</span> <span style=\"color: #d0d0d0\">-p2[</span><span style=\"color: #51b2fd\">0</span><span style=\"color: #d0d0d0\">]*p1[</span><span style=\"color: #51b2fd\">1</span><span style=\"color: #d0d0d0\">]])</span>\n",
       "<a id=\"True-5\" name=\"True-5\"></a>        <span style=\"color: #d0d0d0\">matrix.append([</span><span style=\"color: #51b2fd\">0</span><span style=\"color: #d0d0d0\">,</span> <span style=\"color: #51b2fd\">0</span><span style=\"color: #d0d0d0\">,</span> <span style=\"color: #51b2fd\">0</span><span style=\"color: #d0d0d0\">,</span> <span style=\"color: #d0d0d0\">p1[</span><span style=\"color: #51b2fd\">0</span><span style=\"color: #d0d0d0\">],</span> <span style=\"color: #d0d0d0\">p1[</span><span style=\"color: #51b2fd\">1</span><span style=\"color: #d0d0d0\">],</span> <span style=\"color: #51b2fd\">1</span><span style=\"color: #d0d0d0\">,</span> <span style=\"color: #d0d0d0\">-p2[</span><span style=\"color: #51b2fd\">1</span><span style=\"color: #d0d0d0\">]*p1[</span><span style=\"color: #51b2fd\">0</span><span style=\"color: #d0d0d0\">],</span> <span style=\"color: #d0d0d0\">-p2[</span><span style=\"color: #51b2fd\">1</span><span style=\"color: #d0d0d0\">]*p1[</span><span style=\"color: #51b2fd\">1</span><span style=\"color: #d0d0d0\">]])</span>\n",
       "<a id=\"True-6\" name=\"True-6\"></a>\n",
       "<a id=\"True-7\" name=\"True-7\"></a>    <span style=\"color: #d0d0d0\">A</span> <span style=\"color: #d0d0d0\">=</span> <span style=\"color: #d0d0d0\">np.matrix(matrix,</span> <span style=\"color: #d0d0d0\">dtype=</span><span style=\"color: #2fbccd\">float</span><span style=\"color: #d0d0d0\">)</span>\n",
       "<a id=\"True-8\" name=\"True-8\"></a>    <span style=\"color: #d0d0d0\">B</span> <span style=\"color: #d0d0d0\">=</span> <span style=\"color: #d0d0d0\">np.array(pb).reshape(</span><span style=\"color: #51b2fd\">8</span><span style=\"color: #d0d0d0\">)</span>\n",
       "<a id=\"True-9\" name=\"True-9\"></a>\n",
       "<a id=\"True-10\" name=\"True-10\"></a>    <span style=\"color: #d0d0d0\">res</span> <span style=\"color: #d0d0d0\">=</span> <span style=\"color: #d0d0d0\">np.dot(np.linalg.inv(A.T</span> <span style=\"color: #d0d0d0\">*</span> <span style=\"color: #d0d0d0\">A)</span> <span style=\"color: #d0d0d0\">*</span> <span style=\"color: #d0d0d0\">A.T,</span> <span style=\"color: #d0d0d0\">B)</span>\n",
       "<a id=\"True-11\" name=\"True-11\"></a>    <span style=\"color: #6ebf26; font-weight: bold\">return</span> <span style=\"color: #d0d0d0\">np.array(res).reshape(</span><span style=\"color: #51b2fd\">8</span><span style=\"color: #d0d0d0\">)</span>\n",
       "</pre></div></td></tr></table></div>\n",
       "\n",
       "</div>\n"
      ],
      "text/plain": [
       "<IPython.core.display.HTML object>"
      ]
     },
     "execution_count": 38,
     "metadata": {},
     "output_type": "execute_result"
    }
   ],
   "source": [
    "from utils import find_coeffs\n",
    "import inspect\n",
    "from subprocess import check_output\n",
    "from IPython.core.display import HTML\n",
    "\n",
    "output = check_output([\"pygmentize\", \"-f\", \"html\", \"-O\", \"noclasses,lineanchors,linenos,style=native\", \"-l\", \"python\"],\n",
    "                     input=inspect.getsource(find_coeffs), encoding='ascii')\n",
    "\n",
    "# Define a custom CSS class to align the code to the left\n",
    "custom_css = \"\"\"\n",
    "<style>\n",
    ".code {\n",
    "    text-align: left;\n",
    "    background-color: black; /* Set the background color */\n",
    "    }\n",
    "</style>\n",
    "\"\"\"\n",
    "\n",
    "# Embed the code block in a div with the custom CSS class\n",
    "html_code = f\"\"\"\n",
    "{custom_css}\n",
    "<div class=\"code\">\n",
    "{output}\n",
    "</div>\n",
    "\"\"\"\n",
    "\n",
    "HTML(html_code)\n"
   ]
  }
 ],
 "metadata": {
  "kernelspec": {
   "display_name": "WindBro",
   "language": "python",
   "name": "python3"
  },
  "language_info": {
   "codemirror_mode": {
    "name": "ipython",
    "version": 3
   },
   "file_extension": ".py",
   "mimetype": "text/x-python",
   "name": "python",
   "nbconvert_exporter": "python",
   "pygments_lexer": "ipython3",
   "version": "3.11.5"
  },
  "orig_nbformat": 4
 },
 "nbformat": 4,
 "nbformat_minor": 2
}
