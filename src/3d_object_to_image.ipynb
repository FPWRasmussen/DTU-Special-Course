{
 "cells": [
  {
   "cell_type": "markdown",
   "metadata": {},
   "source": [
    "# Convert OBJ file to PNG\n",
    "In the notebook .obj files are loaded and converted to .png files"
   ]
  },
  {
   "cell_type": "code",
   "execution_count": 1,
   "metadata": {},
   "outputs": [],
   "source": [
    "from utils import print_code, load_and_normalize_obj, plot_trisurface, crop_image, adjust_image\n",
    "import matplotlib.pyplot as plt\n",
    "import numpy as np\n",
    "from PIL import Image, ImageEnhance\n",
    "from IPython.core.display import HTML"
   ]
  },
  {
   "cell_type": "markdown",
   "metadata": {},
   "source": [
    "Firstly, the vertices and faces are loaded from the .obj and normalized with the total height of the wind turbine."
   ]
  },
  {
   "cell_type": "code",
   "execution_count": 2,
   "metadata": {},
   "outputs": [
    {
     "data": {
      "text/html": [
       "<div class=\"highlight\" style=\"background: #202020\"><pre style=\"line-height: 125%;\"><span></span><a id=\"True-1\" name=\"True-1\" href=\"#True-1\"></a><span style=\"color: #6ebf26; font-weight: bold\">def</span> <span style=\"color: #71adff\">load_and_normalize_obj</span><span style=\"color: #d0d0d0\">(file_path,</span> <span style=\"color: #d0d0d0\">total_height</span> <span style=\"color: #d0d0d0\">=</span> <span style=\"color: #51b2fd\">1</span><span style=\"color: #d0d0d0\">):</span>\n",
       "<a id=\"True-2\" name=\"True-2\" href=\"#True-2\"></a>    <span style=\"color: #d0d0d0\">V,</span> <span style=\"color: #d0d0d0\">F</span> <span style=\"color: #d0d0d0\">=</span> <span style=\"color: #d0d0d0\">[],</span> <span style=\"color: #d0d0d0\">[]</span>\n",
       "<a id=\"True-3\" name=\"True-3\" href=\"#True-3\"></a>    <span style=\"color: #6ebf26; font-weight: bold\">with</span> <span style=\"color: #2fbccd\">open</span><span style=\"color: #d0d0d0\">(file_path)</span> <span style=\"color: #6ebf26; font-weight: bold\">as</span> <span style=\"color: #d0d0d0\">f:</span>\n",
       "<a id=\"True-4\" name=\"True-4\" href=\"#True-4\"></a>        <span style=\"color: #6ebf26; font-weight: bold\">for</span> <span style=\"color: #d0d0d0\">line</span> <span style=\"color: #6ebf26; font-weight: bold\">in</span> <span style=\"color: #d0d0d0\">f.readlines():</span>\n",
       "<a id=\"True-5\" name=\"True-5\" href=\"#True-5\"></a>            <span style=\"color: #6ebf26; font-weight: bold\">if</span> <span style=\"color: #d0d0d0\">line.startswith(</span><span style=\"color: #ed9d13\">&#39;#&#39;</span><span style=\"color: #d0d0d0\">):</span>\n",
       "<a id=\"True-6\" name=\"True-6\" href=\"#True-6\"></a>                <span style=\"color: #6ebf26; font-weight: bold\">continue</span>\n",
       "<a id=\"True-7\" name=\"True-7\" href=\"#True-7\"></a>            <span style=\"color: #d0d0d0\">values</span> <span style=\"color: #d0d0d0\">=</span> <span style=\"color: #d0d0d0\">line.split()</span>\n",
       "<a id=\"True-8\" name=\"True-8\" href=\"#True-8\"></a>            <span style=\"color: #6ebf26; font-weight: bold\">if</span> <span style=\"color: #6ebf26; font-weight: bold\">not</span> <span style=\"color: #d0d0d0\">values:</span>\n",
       "<a id=\"True-9\" name=\"True-9\" href=\"#True-9\"></a>                <span style=\"color: #6ebf26; font-weight: bold\">continue</span>\n",
       "<a id=\"True-10\" name=\"True-10\" href=\"#True-10\"></a>            <span style=\"color: #6ebf26; font-weight: bold\">if</span> <span style=\"color: #d0d0d0\">values[</span><span style=\"color: #51b2fd\">0</span><span style=\"color: #d0d0d0\">]</span> <span style=\"color: #d0d0d0\">==</span> <span style=\"color: #ed9d13\">&#39;v&#39;</span><span style=\"color: #d0d0d0\">:</span>\n",
       "<a id=\"True-11\" name=\"True-11\" href=\"#True-11\"></a>                <span style=\"color: #d0d0d0\">V.append([</span><span style=\"color: #2fbccd\">float</span><span style=\"color: #d0d0d0\">(x)</span> <span style=\"color: #6ebf26; font-weight: bold\">for</span> <span style=\"color: #d0d0d0\">x</span> <span style=\"color: #6ebf26; font-weight: bold\">in</span> <span style=\"color: #d0d0d0\">values[</span><span style=\"color: #51b2fd\">1</span><span style=\"color: #d0d0d0\">:</span><span style=\"color: #51b2fd\">4</span><span style=\"color: #d0d0d0\">]])</span>\n",
       "<a id=\"True-12\" name=\"True-12\" href=\"#True-12\"></a>            <span style=\"color: #6ebf26; font-weight: bold\">elif</span> <span style=\"color: #d0d0d0\">values[</span><span style=\"color: #51b2fd\">0</span><span style=\"color: #d0d0d0\">]</span> <span style=\"color: #d0d0d0\">==</span> <span style=\"color: #ed9d13\">&#39;f&#39;</span> <span style=\"color: #d0d0d0\">:</span>\n",
       "<a id=\"True-13\" name=\"True-13\" href=\"#True-13\"></a>                <span style=\"color: #d0d0d0\">F.append([</span><span style=\"color: #2fbccd\">int</span><span style=\"color: #d0d0d0\">(x.split(</span><span style=\"color: #ed9d13\">&quot;/&quot;</span><span style=\"color: #d0d0d0\">,</span> <span style=\"color: #51b2fd\">1</span><span style=\"color: #d0d0d0\">)[</span><span style=\"color: #51b2fd\">0</span><span style=\"color: #d0d0d0\">])</span> <span style=\"color: #6ebf26; font-weight: bold\">for</span> <span style=\"color: #d0d0d0\">x</span> <span style=\"color: #6ebf26; font-weight: bold\">in</span> <span style=\"color: #d0d0d0\">values[</span><span style=\"color: #51b2fd\">1</span><span style=\"color: #d0d0d0\">:</span><span style=\"color: #51b2fd\">4</span><span style=\"color: #d0d0d0\">]])</span>\n",
       "<a id=\"True-14\" name=\"True-14\" href=\"#True-14\"></a>    <span style=\"color: #d0d0d0\">V,</span> <span style=\"color: #d0d0d0\">F</span> <span style=\"color: #d0d0d0\">=</span> <span style=\"color: #d0d0d0\">np.array(V),</span> <span style=\"color: #d0d0d0\">np.array(F)-</span><span style=\"color: #51b2fd\">1</span>\n",
       "<a id=\"True-15\" name=\"True-15\" href=\"#True-15\"></a>    <span style=\"color: #d0d0d0\">V</span> <span style=\"color: #d0d0d0\">=</span> <span style=\"color: #d0d0d0\">(V</span> <span style=\"color: #d0d0d0\">-</span> <span style=\"color: #d0d0d0\">np.min(V[:,</span><span style=\"color: #51b2fd\">2</span><span style=\"color: #d0d0d0\">]))</span> <span style=\"color: #d0d0d0\">/</span> <span style=\"color: #d0d0d0\">(np.max(V[:,</span><span style=\"color: #51b2fd\">2</span><span style=\"color: #d0d0d0\">])</span> <span style=\"color: #d0d0d0\">-</span> <span style=\"color: #d0d0d0\">np.min(V[:,</span><span style=\"color: #51b2fd\">2</span><span style=\"color: #d0d0d0\">]))*total_height</span>\n",
       "<a id=\"True-16\" name=\"True-16\" href=\"#True-16\"></a>    <span style=\"color: #6ebf26; font-weight: bold\">return</span> <span style=\"color: #d0d0d0\">V,</span> <span style=\"color: #d0d0d0\">F</span>\n",
       "</pre></div>\n"
      ],
      "text/plain": [
       "<IPython.core.display.HTML object>"
      ]
     },
     "execution_count": 2,
     "metadata": {},
     "output_type": "execute_result"
    }
   ],
   "source": [
    "HTML(print_code(load_and_normalize_obj))"
   ]
  },
  {
   "cell_type": "code",
   "execution_count": 3,
   "metadata": {},
   "outputs": [
    {
     "name": "stdout",
     "output_type": "stream",
     "text": [
      "V:  [[-0.12417317  0.04519447  0.20578117]\n",
      " [-0.12417317  0.03176677  0.20578117]\n",
      " [-0.12220532  0.04519447  0.20578117]\n",
      " ...\n",
      " [-0.13311945 -0.06512105  0.1551131 ]\n",
      " [ 0.12557878 -0.03222979  0.16860694]\n",
      " [-0.12559531  0.03221325  0.16860694]] \n",
      "\n",
      "F:  [[     0      1      2]\n",
      " [     2      1      3]\n",
      " [     4      5      6]\n",
      " ...\n",
      " [166246 166247 166248]\n",
      " [ 26963 166249  26961]\n",
      " [108153 166250 108151]]\n"
     ]
    }
   ],
   "source": [
    "V, F = load_and_normalize_obj(\"../assets/eiffel.obj\", total_height = 1)\n",
    "print(\"V: \",V,\"\\n\\nF: \", F)"
   ]
  },
  {
   "cell_type": "markdown",
   "metadata": {},
   "source": [
    "Thereafter, the vertices and faces are loaded into _matplotlib_, and a 3D plot is made using _plt.plot_trisurf_."
   ]
  },
  {
   "cell_type": "code",
   "execution_count": 4,
   "metadata": {},
   "outputs": [
    {
     "data": {
      "text/html": [
       "<div class=\"highlight\" style=\"background: #202020\"><pre style=\"line-height: 125%;\"><span></span><a id=\"True-1\" name=\"True-1\" href=\"#True-1\"></a><span style=\"color: #6ebf26; font-weight: bold\">def</span> <span style=\"color: #71adff\">plot_trisurface</span><span style=\"color: #d0d0d0\">(file_path,</span> <span style=\"color: #d0d0d0\">elevation</span> <span style=\"color: #d0d0d0\">=</span> <span style=\"color: #51b2fd\">0</span><span style=\"color: #d0d0d0\">,</span> <span style=\"color: #d0d0d0\">azimuth</span> <span style=\"color: #d0d0d0\">=</span> <span style=\"color: #51b2fd\">0</span><span style=\"color: #d0d0d0\">,</span> <span style=\"color: #d0d0d0\">view_height</span> <span style=\"color: #d0d0d0\">=</span> <span style=\"color: #51b2fd\">0</span><span style=\"color: #d0d0d0\">,</span> <span style=\"color: #d0d0d0\">total_height</span> <span style=\"color: #d0d0d0\">=</span> <span style=\"color: #51b2fd\">1</span><span style=\"color: #d0d0d0\">,</span> <span style=\"color: #d0d0d0\">show_plot</span> <span style=\"color: #d0d0d0\">=</span> <span style=\"color: #6ebf26; font-weight: bold\">True</span><span style=\"color: #d0d0d0\">):</span>\n",
       "<a id=\"True-2\" name=\"True-2\" href=\"#True-2\"></a>    \n",
       "<a id=\"True-3\" name=\"True-3\" href=\"#True-3\"></a>    <span style=\"color: #d0d0d0\">V,</span> <span style=\"color: #d0d0d0\">F</span> <span style=\"color: #d0d0d0\">=</span> <span style=\"color: #d0d0d0\">load_and_normalize_obj(file_path,</span> <span style=\"color: #d0d0d0\">total_height</span> <span style=\"color: #d0d0d0\">=</span> <span style=\"color: #d0d0d0\">total_height)</span>\n",
       "<a id=\"True-4\" name=\"True-4\" href=\"#True-4\"></a>\n",
       "<a id=\"True-5\" name=\"True-5\" href=\"#True-5\"></a>    <span style=\"color: #d0d0d0\">fig</span> <span style=\"color: #d0d0d0\">=</span> <span style=\"color: #d0d0d0\">plt.figure(figsize=(</span><span style=\"color: #51b2fd\">6</span><span style=\"color: #d0d0d0\">,</span><span style=\"color: #51b2fd\">6</span><span style=\"color: #d0d0d0\">))</span>\n",
       "<a id=\"True-6\" name=\"True-6\" href=\"#True-6\"></a>    <span style=\"color: #d0d0d0\">ax</span> <span style=\"color: #d0d0d0\">=</span> <span style=\"color: #d0d0d0\">fig.add_subplot(</span><span style=\"color: #51b2fd\">111</span><span style=\"color: #d0d0d0\">,</span> <span style=\"color: #d0d0d0\">projection=</span><span style=\"color: #ed9d13\">&quot;3d&quot;</span><span style=\"color: #d0d0d0\">)</span>\n",
       "<a id=\"True-7\" name=\"True-7\" href=\"#True-7\"></a>\n",
       "<a id=\"True-8\" name=\"True-8\" href=\"#True-8\"></a>    <span style=\"color: #d0d0d0\">plt.axis(</span><span style=\"color: #ed9d13\">&#39;off&#39;</span><span style=\"color: #d0d0d0\">)</span>\n",
       "<a id=\"True-9\" name=\"True-9\" href=\"#True-9\"></a>    <span style=\"color: #d0d0d0\">plt.grid(visible=</span><span style=\"color: #6ebf26; font-weight: bold\">None</span><span style=\"color: #d0d0d0\">)</span>\n",
       "<a id=\"True-10\" name=\"True-10\" href=\"#True-10\"></a>    <span style=\"color: #d0d0d0\">ax.view_init(elev=elevation,</span> <span style=\"color: #d0d0d0\">azim=azimuth)</span>\n",
       "<a id=\"True-11\" name=\"True-11\" href=\"#True-11\"></a>\n",
       "<a id=\"True-12\" name=\"True-12\" href=\"#True-12\"></a>    <span style=\"color: #d0d0d0\">tri</span> <span style=\"color: #d0d0d0\">=</span> <span style=\"color: #d0d0d0\">ax.plot_trisurf(V[:,</span> <span style=\"color: #51b2fd\">0</span><span style=\"color: #d0d0d0\">],</span> <span style=\"color: #d0d0d0\">V[:,</span><span style=\"color: #51b2fd\">1</span><span style=\"color: #d0d0d0\">],</span> <span style=\"color: #d0d0d0\">F,</span> <span style=\"color: #d0d0d0\">V[:,</span> <span style=\"color: #51b2fd\">2</span><span style=\"color: #d0d0d0\">],</span> <span style=\"color: #d0d0d0\">linewidth=</span><span style=\"color: #51b2fd\">0</span><span style=\"color: #d0d0d0\">,</span> <span style=\"color: #d0d0d0\">antialiased=</span><span style=\"color: #6ebf26; font-weight: bold\">False</span><span style=\"color: #d0d0d0\">,</span> <span style=\"color: #d0d0d0\">closed=</span><span style=\"color: #6ebf26; font-weight: bold\">True</span><span style=\"color: #d0d0d0\">)</span>\n",
       "<a id=\"True-13\" name=\"True-13\" href=\"#True-13\"></a>    <span style=\"color: #d0d0d0\">tri.set(facecolor</span> <span style=\"color: #d0d0d0\">=</span> <span style=\"color: #ed9d13\">&quot;grey&quot;</span><span style=\"color: #d0d0d0\">,</span> <span style=\"color: #d0d0d0\">edgecolor</span> <span style=\"color: #d0d0d0\">=</span> <span style=\"color: #ed9d13\">&quot;none&quot;</span><span style=\"color: #d0d0d0\">)</span>\n",
       "<a id=\"True-14\" name=\"True-14\" href=\"#True-14\"></a>\n",
       "<a id=\"True-15\" name=\"True-15\" href=\"#True-15\"></a>    <span style=\"color: #d0d0d0\">limits</span> <span style=\"color: #d0d0d0\">=</span> <span style=\"color: #d0d0d0\">np.array([</span><span style=\"color: #2fbccd\">getattr</span><span style=\"color: #d0d0d0\">(ax,</span> <span style=\"color: #ed9d13\">f&quot;get_{</span><span style=\"color: #d0d0d0\">axis</span><span style=\"color: #ed9d13\">}lim&quot;</span><span style=\"color: #d0d0d0\">)()</span> <span style=\"color: #6ebf26; font-weight: bold\">for</span> <span style=\"color: #d0d0d0\">axis</span> <span style=\"color: #6ebf26; font-weight: bold\">in</span> <span style=\"color: #ed9d13\">&quot;xyz&quot;</span><span style=\"color: #d0d0d0\">])</span>\n",
       "<a id=\"True-16\" name=\"True-16\" href=\"#True-16\"></a>    <span style=\"color: #d0d0d0\">lower_bound</span> <span style=\"color: #d0d0d0\">=</span> <span style=\"color: #2fbccd\">min</span><span style=\"color: #d0d0d0\">(</span><span style=\"color: #51b2fd\">0</span><span style=\"color: #d0d0d0\">,</span> <span style=\"color: #51b2fd\">2</span><span style=\"color: #d0d0d0\">*view_height</span> <span style=\"color: #d0d0d0\">-</span> <span style=\"color: #d0d0d0\">total_height)</span>\n",
       "<a id=\"True-17\" name=\"True-17\" href=\"#True-17\"></a>    <span style=\"color: #d0d0d0\">upper_bound</span> <span style=\"color: #d0d0d0\">=</span> <span style=\"color: #2fbccd\">max</span><span style=\"color: #d0d0d0\">(total_height,</span> <span style=\"color: #51b2fd\">2</span><span style=\"color: #d0d0d0\">*view_height)</span>\n",
       "<a id=\"True-18\" name=\"True-18\" href=\"#True-18\"></a>    <span style=\"color: #d0d0d0\">limits[</span><span style=\"color: #51b2fd\">2</span><span style=\"color: #d0d0d0\">,:]</span> <span style=\"color: #d0d0d0\">=</span> <span style=\"color: #d0d0d0\">[lower_bound,</span> <span style=\"color: #d0d0d0\">upper_bound]</span>\n",
       "<a id=\"True-19\" name=\"True-19\" href=\"#True-19\"></a>    <span style=\"color: #d0d0d0\">ax.set(zlim=limits[</span><span style=\"color: #51b2fd\">2</span><span style=\"color: #d0d0d0\">,:],</span> <span style=\"color: #d0d0d0\">aspect=</span><span style=\"color: #ed9d13\">&quot;equal&quot;</span><span style=\"color: #d0d0d0\">)</span>\n",
       "<a id=\"True-20\" name=\"True-20\" href=\"#True-20\"></a>\n",
       "<a id=\"True-21\" name=\"True-21\" href=\"#True-21\"></a>    <span style=\"color: #d0d0d0\">plt.savefig(</span><span style=\"color: #ed9d13\">f&quot;../temp/obj2png.png&quot;</span><span style=\"color: #d0d0d0\">,</span> <span style=\"color: #d0d0d0\">dpi=</span><span style=\"color: #51b2fd\">300</span><span style=\"color: #d0d0d0\">,</span> <span style=\"color: #d0d0d0\">transparent=</span><span style=\"color: #6ebf26; font-weight: bold\">True</span><span style=\"color: #d0d0d0\">)</span>\n",
       "<a id=\"True-22\" name=\"True-22\" href=\"#True-22\"></a>    <span style=\"color: #6ebf26; font-weight: bold\">if</span> <span style=\"color: #d0d0d0\">show_plot:</span>\n",
       "<a id=\"True-23\" name=\"True-23\" href=\"#True-23\"></a>        <span style=\"color: #d0d0d0\">plt.show()</span>\n",
       "<a id=\"True-24\" name=\"True-24\" href=\"#True-24\"></a>    <span style=\"color: #6ebf26; font-weight: bold\">else</span><span style=\"color: #d0d0d0\">:</span>\n",
       "<a id=\"True-25\" name=\"True-25\" href=\"#True-25\"></a>        <span style=\"color: #d0d0d0\">plt.close()</span> <span style=\"color: #ababab; font-style: italic\"># prevent plot from showing</span>\n",
       "</pre></div>\n"
      ],
      "text/plain": [
       "<IPython.core.display.HTML object>"
      ]
     },
     "execution_count": 4,
     "metadata": {},
     "output_type": "execute_result"
    }
   ],
   "source": [
    "HTML(print_code(plot_trisurface))"
   ]
  },
  {
   "cell_type": "code",
   "execution_count": 5,
   "metadata": {},
   "outputs": [
    {
     "data": {
      "image/png": "[encoded data removed]",
      "text/plain": [
       "<Figure size 600x600 with 1 Axes>"
      ]
     },
     "metadata": {},
     "output_type": "display_data"
    }
   ],
   "source": [
    "plot_trisurface(\"../assets/turbine.obj\")"
   ]
  },
  {
   "cell_type": "markdown",
   "metadata": {},
   "source": [
    "The image needs to be cropped and given a transparent background."
   ]
  },
  {
   "cell_type": "code",
   "execution_count": 6,
   "metadata": {},
   "outputs": [
    {
     "data": {
      "text/html": [
       "<div class=\"highlight\" style=\"background: #202020\"><pre style=\"line-height: 125%;\"><span></span><a id=\"True-1\" name=\"True-1\" href=\"#True-1\"></a><span style=\"color: #6ebf26; font-weight: bold\">def</span> <span style=\"color: #71adff\">crop_image</span><span style=\"color: #d0d0d0\">(file_path</span> <span style=\"color: #d0d0d0\">=</span> <span style=\"color: #ed9d13\">&quot;../temp/obj2png.png&quot;</span><span style=\"color: #d0d0d0\">,</span> <span style=\"color: #d0d0d0\">display_image</span> <span style=\"color: #d0d0d0\">=</span> <span style=\"color: #6ebf26; font-weight: bold\">True</span><span style=\"color: #d0d0d0\">):</span>\n",
       "<a id=\"True-2\" name=\"True-2\" href=\"#True-2\"></a>    <span style=\"color: #d0d0d0\">pil_image</span> <span style=\"color: #d0d0d0\">=</span> <span style=\"color: #d0d0d0\">Image.open(file_path)</span>\n",
       "<a id=\"True-3\" name=\"True-3\" href=\"#True-3\"></a>    <span style=\"color: #d0d0d0\">pil_image</span> <span style=\"color: #d0d0d0\">=</span> <span style=\"color: #d0d0d0\">pil_image.crop((</span><span style=\"color: #51b2fd\">5</span><span style=\"color: #d0d0d0\">,</span> <span style=\"color: #51b2fd\">5</span><span style=\"color: #d0d0d0\">,</span> <span style=\"color: #d0d0d0\">pil_image.size[</span><span style=\"color: #51b2fd\">0</span><span style=\"color: #d0d0d0\">]-</span><span style=\"color: #51b2fd\">5</span><span style=\"color: #d0d0d0\">,</span> <span style=\"color: #d0d0d0\">pil_image.size[</span><span style=\"color: #51b2fd\">1</span><span style=\"color: #d0d0d0\">]-</span><span style=\"color: #51b2fd\">5</span><span style=\"color: #d0d0d0\">))</span>\n",
       "<a id=\"True-4\" name=\"True-4\" href=\"#True-4\"></a>    <span style=\"color: #d0d0d0\">np_array</span> <span style=\"color: #d0d0d0\">=</span> <span style=\"color: #d0d0d0\">np.array(pil_image)</span>\n",
       "<a id=\"True-5\" name=\"True-5\" href=\"#True-5\"></a>    <span style=\"color: #d0d0d0\">blank_px</span> <span style=\"color: #d0d0d0\">=</span> <span style=\"color: #d0d0d0\">[</span><span style=\"color: #51b2fd\">255</span><span style=\"color: #d0d0d0\">,</span> <span style=\"color: #51b2fd\">255</span><span style=\"color: #d0d0d0\">,</span> <span style=\"color: #51b2fd\">255</span><span style=\"color: #d0d0d0\">,</span> <span style=\"color: #51b2fd\">0</span><span style=\"color: #d0d0d0\">]</span>\n",
       "<a id=\"True-6\" name=\"True-6\" href=\"#True-6\"></a>    <span style=\"color: #d0d0d0\">mask</span> <span style=\"color: #d0d0d0\">=</span> <span style=\"color: #d0d0d0\">np_array</span> <span style=\"color: #d0d0d0\">!=</span> <span style=\"color: #d0d0d0\">blank_px</span>\n",
       "<a id=\"True-7\" name=\"True-7\" href=\"#True-7\"></a>    <span style=\"color: #d0d0d0\">coords</span> <span style=\"color: #d0d0d0\">=</span> <span style=\"color: #d0d0d0\">np.argwhere(mask)</span>\n",
       "<a id=\"True-8\" name=\"True-8\" href=\"#True-8\"></a>    <span style=\"color: #d0d0d0\">x0,</span> <span style=\"color: #d0d0d0\">y0,</span> <span style=\"color: #d0d0d0\">z0</span> <span style=\"color: #d0d0d0\">=</span> <span style=\"color: #d0d0d0\">coords.min(axis=</span><span style=\"color: #51b2fd\">0</span><span style=\"color: #d0d0d0\">)</span>\n",
       "<a id=\"True-9\" name=\"True-9\" href=\"#True-9\"></a>    <span style=\"color: #d0d0d0\">x1,</span> <span style=\"color: #d0d0d0\">y1,</span> <span style=\"color: #d0d0d0\">z1</span> <span style=\"color: #d0d0d0\">=</span> <span style=\"color: #d0d0d0\">coords.max(axis=</span><span style=\"color: #51b2fd\">0</span><span style=\"color: #d0d0d0\">)</span> <span style=\"color: #d0d0d0\">+</span> <span style=\"color: #51b2fd\">1</span>\n",
       "<a id=\"True-10\" name=\"True-10\" href=\"#True-10\"></a>    <span style=\"color: #d0d0d0\">cropped_box</span> <span style=\"color: #d0d0d0\">=</span> <span style=\"color: #d0d0d0\">np_array[x0:x1,</span> <span style=\"color: #d0d0d0\">y0:y1,</span> <span style=\"color: #51b2fd\">0</span><span style=\"color: #d0d0d0\">:</span><span style=\"color: #51b2fd\">4</span><span style=\"color: #d0d0d0\">]</span>\n",
       "<a id=\"True-11\" name=\"True-11\" href=\"#True-11\"></a>    <span style=\"color: #d0d0d0\">pil_image</span> <span style=\"color: #d0d0d0\">=</span> <span style=\"color: #d0d0d0\">Image.fromarray(cropped_box,</span> <span style=\"color: #ed9d13\">&#39;RGBA&#39;</span><span style=\"color: #d0d0d0\">)</span>\n",
       "<a id=\"True-12\" name=\"True-12\" href=\"#True-12\"></a>    <span style=\"color: #d0d0d0\">pil_image.save(file_path)</span>\n",
       "<a id=\"True-13\" name=\"True-13\" href=\"#True-13\"></a>\n",
       "<a id=\"True-14\" name=\"True-14\" href=\"#True-14\"></a>    <span style=\"color: #6ebf26; font-weight: bold\">if</span> <span style=\"color: #d0d0d0\">display_image:</span>\n",
       "<a id=\"True-15\" name=\"True-15\" href=\"#True-15\"></a>        <span style=\"color: #d0d0d0\">display(pil_image)</span>\n",
       "<a id=\"True-16\" name=\"True-16\" href=\"#True-16\"></a>\n",
       "<a id=\"True-17\" name=\"True-17\" href=\"#True-17\"></a>    <span style=\"color: #6ebf26; font-weight: bold\">return</span> <span style=\"color: #d0d0d0\">pil_image</span>\n",
       "</pre></div>\n"
      ],
      "text/plain": [
       "<IPython.core.display.HTML object>"
      ]
     },
     "execution_count": 6,
     "metadata": {},
     "output_type": "execute_result"
    }
   ],
   "source": [
    "HTML(print_code(crop_image))"
   ]
  },
  {
   "cell_type": "code",
   "execution_count": 7,
   "metadata": {},
   "outputs": [
    {
     "data": {
      "image/png": "[encoded data removed]",
      "text/plain": [
       "<PIL.Image.Image image mode=RGBA size=63x670>"
      ]
     },
     "metadata": {},
     "output_type": "display_data"
    }
   ],
   "source": [
    "pil_image = crop_image()"
   ]
  },
  {
   "cell_type": "markdown",
   "metadata": {},
   "source": [
    "Lastly, the image needs to be adjusted according to the weather conditions of the Google Street View image."
   ]
  },
  {
   "cell_type": "code",
   "execution_count": 8,
   "metadata": {},
   "outputs": [
    {
     "data": {
      "text/html": [
       "<div class=\"highlight\" style=\"background: #202020\"><pre style=\"line-height: 125%;\"><span></span><a id=\"True-1\" name=\"True-1\" href=\"#True-1\"></a><span style=\"color: #6ebf26; font-weight: bold\">def</span> <span style=\"color: #71adff\">adjust_image</span><span style=\"color: #d0d0d0\">(image_path</span> <span style=\"color: #d0d0d0\">=</span> <span style=\"color: #ed9d13\">&quot;../temp/obj2png.png&quot;</span><span style=\"color: #d0d0d0\">,</span> <span style=\"color: #d0d0d0\">brightness</span> <span style=\"color: #d0d0d0\">=</span> <span style=\"color: #51b2fd\">1</span><span style=\"color: #d0d0d0\">,</span> <span style=\"color: #d0d0d0\">contrast</span> <span style=\"color: #d0d0d0\">=</span> <span style=\"color: #51b2fd\">1</span><span style=\"color: #d0d0d0\">,</span> <span style=\"color: #d0d0d0\">display_image</span> <span style=\"color: #d0d0d0\">=</span> <span style=\"color: #6ebf26; font-weight: bold\">True</span><span style=\"color: #d0d0d0\">):</span>\n",
       "<a id=\"True-2\" name=\"True-2\" href=\"#True-2\"></a>    <span style=\"color: #ababab; font-style: italic\"># Load the image using PIL.</span>\n",
       "<a id=\"True-3\" name=\"True-3\" href=\"#True-3\"></a>    <span style=\"color: #6ebf26; font-weight: bold\">if</span> <span style=\"color: #2fbccd\">isinstance</span><span style=\"color: #d0d0d0\">(image_path,</span> <span style=\"color: #2fbccd\">str</span><span style=\"color: #d0d0d0\">):</span>\n",
       "<a id=\"True-4\" name=\"True-4\" href=\"#True-4\"></a>        <span style=\"color: #d0d0d0\">image</span> <span style=\"color: #d0d0d0\">=</span> <span style=\"color: #d0d0d0\">Image.open(image_path)</span>\n",
       "<a id=\"True-5\" name=\"True-5\" href=\"#True-5\"></a>    <span style=\"color: #6ebf26; font-weight: bold\">else</span><span style=\"color: #d0d0d0\">:</span>\n",
       "<a id=\"True-6\" name=\"True-6\" href=\"#True-6\"></a>        <span style=\"color: #d0d0d0\">image</span> <span style=\"color: #d0d0d0\">=</span> <span style=\"color: #d0d0d0\">image_path</span>\n",
       "<a id=\"True-7\" name=\"True-7\" href=\"#True-7\"></a>\n",
       "<a id=\"True-8\" name=\"True-8\" href=\"#True-8\"></a>    <span style=\"color: #ababab; font-style: italic\"># Apply the brightness and contrast adjustments to the image.</span>\n",
       "<a id=\"True-9\" name=\"True-9\" href=\"#True-9\"></a>    <span style=\"color: #d0d0d0\">enhancer</span> <span style=\"color: #d0d0d0\">=</span> <span style=\"color: #d0d0d0\">ImageEnhance.Brightness(image)</span>\n",
       "<a id=\"True-10\" name=\"True-10\" href=\"#True-10\"></a>    <span style=\"color: #d0d0d0\">image</span> <span style=\"color: #d0d0d0\">=</span> <span style=\"color: #d0d0d0\">enhancer.enhance(brightness)</span>\n",
       "<a id=\"True-11\" name=\"True-11\" href=\"#True-11\"></a>\n",
       "<a id=\"True-12\" name=\"True-12\" href=\"#True-12\"></a>    <span style=\"color: #d0d0d0\">enhancer</span> <span style=\"color: #d0d0d0\">=</span> <span style=\"color: #d0d0d0\">ImageEnhance.Contrast(image)</span>\n",
       "<a id=\"True-13\" name=\"True-13\" href=\"#True-13\"></a>    <span style=\"color: #d0d0d0\">image</span> <span style=\"color: #d0d0d0\">=</span> <span style=\"color: #d0d0d0\">enhancer.enhance(contrast)</span>\n",
       "<a id=\"True-14\" name=\"True-14\" href=\"#True-14\"></a>\n",
       "<a id=\"True-15\" name=\"True-15\" href=\"#True-15\"></a>    <span style=\"color: #ababab; font-style: italic\"># Save or display the adjusted image.</span>\n",
       "<a id=\"True-16\" name=\"True-16\" href=\"#True-16\"></a>    <span style=\"color: #d0d0d0\">image.save(image_path)</span>\n",
       "<a id=\"True-17\" name=\"True-17\" href=\"#True-17\"></a>    <span style=\"color: #6ebf26; font-weight: bold\">if</span> <span style=\"color: #d0d0d0\">display_image:</span>\n",
       "<a id=\"True-18\" name=\"True-18\" href=\"#True-18\"></a>        <span style=\"color: #d0d0d0\">display(image)</span>\n",
       "<a id=\"True-19\" name=\"True-19\" href=\"#True-19\"></a>    <span style=\"color: #6ebf26; font-weight: bold\">return</span> <span style=\"color: #d0d0d0\">image</span>\n",
       "</pre></div>\n"
      ],
      "text/plain": [
       "<IPython.core.display.HTML object>"
      ]
     },
     "execution_count": 8,
     "metadata": {},
     "output_type": "execute_result"
    }
   ],
   "source": [
    "HTML(print_code(adjust_image))"
   ]
  },
  {
   "cell_type": "code",
   "execution_count": 9,
   "metadata": {},
   "outputs": [
    {
     "data": {
      "image/png": "[encoded data removed]",
      "text/plain": [
       "<PIL.Image.Image image mode=RGBA size=63x670>"
      ]
     },
     "metadata": {},
     "output_type": "display_data"
    }
   ],
   "source": [
    "image = adjust_image(brightness = 0, contrast = 1)"
   ]
  }
 ],
 "metadata": {
  "kernelspec": {
   "display_name": "WindBro",
   "language": "python",
   "name": "python3"
  },
  "language_info": {
   "codemirror_mode": {
    "name": "ipython",
    "version": 3
   },
   "file_extension": ".py",
   "mimetype": "text/x-python",
   "name": "python",
   "nbconvert_exporter": "python",
   "pygments_lexer": "ipython3",
   "version": "3.11.5"
  },
  "orig_nbformat": 4
 },
 "nbformat": 4,
 "nbformat_minor": 2
}
