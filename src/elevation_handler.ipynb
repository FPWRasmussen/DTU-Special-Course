{
 "cells": [
  {
   "cell_type": "markdown",
   "metadata": {},
   "source": [
    "Firstly, the neccesary dependencies are imported:"
   ]
  },
  {
   "cell_type": "code",
   "execution_count": null,
   "metadata": {},
   "outputs": [],
   "source": [
    "import numpy as np\n",
    "import matplotlib.pyplot as plt\n",
    "import numpy as np\n",
    "import pathlib\n",
    "import pandas as pd\n",
    "import urllib.request\n",
    "import gzip\n",
    "import os\n",
    "from PIL import Image\n",
    "from matplotlib.patches import Rectangle"
   ]
  },
  {
   "cell_type": "markdown",
   "metadata": {},
   "source": [
    "For map data the Shuttle Radar Topography Mission 30-Meter SRTM Elevation Data is used. The data can be downloaded in a resolution of 1'x1'"
   ]
  },
  {
   "cell_type": "code",
   "execution_count": null,
   "metadata": {},
   "outputs": [],
   "source": [
    "# map_boundaries = np.array([55.475, 58.525, 9.694, 9.856])\n",
    "# 45.88560524665845, 5.6497908875351355 \n",
    "# 48.22842822065253, 11.096540901002689\n",
    "map_boundaries = np.array([45.88, 48.22, 5.64, 11.09])\n",
    "\n",
    "lat_min = np.minimum(map_boundaries[0], map_boundaries[1])\n",
    "lat_max = np.maximum(map_boundaries[0], map_boundaries[1])\n",
    "long_min = np.minimum(map_boundaries[2], map_boundaries[3])\n",
    "long_max = np.maximum(map_boundaries[2], map_boundaries[3])\n",
    "\n",
    "lat_range = np.arange(np.floor(lat_min), np.ceil(lat_max), 1)\n",
    "long_range = np.arange(np.floor(long_min), np.ceil(long_max), 1)\n",
    "\n",
    "merged_map = np.zeros([len(lat_range)*3601, len(long_range)*3601])\n",
    "\n",
    "for i, latitude in enumerate(lat_range):\n",
    "    for j, longitude in enumerate(long_range):\n",
    "        if latitude < 0:\n",
    "            lat_str = \"S\"+str(int(np.floor(-latitude))).zfill(2)\n",
    "        else:\n",
    "            lat_str = \"N\"+str(int(np.floor(latitude))).zfill(2)\n",
    "            \n",
    "        if longitude < 0:\n",
    "            long_str = \"W\"+str(int(np.floor(-longitude))).zfill(3)\n",
    "        else:\n",
    "            long_str = \"E\"+str(int(np.floor(longitude))).zfill(3)\n",
    "\n",
    "        output_name = f\"{lat_str}{long_str}\"\n",
    "        hgt_gz_file = \"../temp/\"+output_name+\".hgt.gz\"\n",
    "        hgt_file = '../temp/'+ output_name+ '.hgt'\n",
    "        # tif_file = '../temp/'+ output_name+ '.tif'\n",
    "\n",
    "        if os.path.exists(hgt_file):\n",
    "            # print(\"File exists!\")\n",
    "            pass\n",
    "        else:\n",
    "            print(\"File does not exist.\")\n",
    "\n",
    "            url = f\"https://s3.amazonaws.com/elevation-tiles-prod/skadi/{lat_str}/{output_name}\"+\".hgt.gz\"\n",
    "            \n",
    "            urllib.request.urlretrieve(url, hgt_gz_file)\n",
    "\n",
    "            with gzip.open(hgt_gz_file, 'rb') as f_in:\n",
    "                with open(hgt_file, 'wb') as f_out:\n",
    "                    f_out.write(f_in.read())\n",
    "            os.remove(hgt_gz_file)\n",
    "        \n",
    "        with open(hgt_file, 'rb') as f:\n",
    "            data = np.frombuffer(f.read(), np.dtype('>i2')).reshape((3601, 3601))\n",
    "            data = np.flip(data, axis=0)\n",
    "\n",
    "        image = Image.fromarray(data)\n",
    "\n",
    "        merged_map[i*3601:(i+1)*3601, j*3601:(j+1)*3601] = data\n",
    "\n",
    "srtm_latitude = np.linspace(np.floor(lat_min), np.ceil(lat_max), merged_map.shape[0])\n",
    "srtm_longitude = np.linspace(np.floor(long_min), np.ceil(long_max), merged_map.shape[1])\n",
    "\n",
    "\n",
    "plt.figure()\n",
    "plt.contourf(srtm_longitude[::10],srtm_latitude[::10],  merged_map[::10, ::10])\n",
    "currentAxis = plt.gca()\n",
    "currentAxis.add_patch(\n",
    "    Rectangle(\n",
    "        xy=(map_boundaries[2], map_boundaries[0]),  # point of origin.\n",
    "        width=(map_boundaries[3]-map_boundaries[2]), height=(map_boundaries[1]-map_boundaries[0]), linewidth=1,\n",
    "        color='k', fill=False))\n",
    "plt.colorbar(label=\"Elevation [m]\")\n"
   ]
  },
  {
   "cell_type": "markdown",
   "metadata": {},
   "source": [
    "Now limit the of the image"
   ]
  },
  {
   "cell_type": "code",
   "execution_count": null,
   "metadata": {},
   "outputs": [],
   "source": [
    "def generate_subarray(original_array, row_points, col_points, subarray_bounds):\n",
    "    start_row = np.argmin(np.abs(row_points - subarray_bounds[0]))\n",
    "    end_row = np.argmin(np.abs(row_points - subarray_bounds[1])) \n",
    "    start_col = np.argmin(np.abs(col_points - subarray_bounds[2]))\n",
    "    end_col = np.argmin(np.abs(col_points - subarray_bounds[3])) \n",
    "    \n",
    "    subarray = original_array[start_row:end_row+1, start_col:end_col+1]\n",
    "    subarray_bounds = [row_points[start_row], row_points[end_row], col_points[start_col], col_points[end_col]]\n",
    "    subrow_points = row_points[start_row:end_row+1]\n",
    "    subcol_points = col_points[start_col:end_col+1]\n",
    "    \n",
    "    return subarray, subrow_points, subcol_points, subarray_bounds\n",
    "\n",
    "subarray, subrow_points, subcol_points, subarray_bounds = generate_subarray(merged_map, srtm_latitude, srtm_longitude, map_boundaries)\n",
    "\n",
    "plt.figure()\n",
    "plt.contourf(subcol_points[::10], subrow_points[::10], subarray[::10, ::10])\n",
    "plt.xlabel(\"longitude\")\n",
    "plt.ylabel(\"Latitude\")\n",
    "plt.colorbar(label=\"Elevation [m]\")"
   ]
  }
 ],
 "metadata": {
  "kernelspec": {
   "display_name": "WindBro",
   "language": "python",
   "name": "python3"
  },
  "language_info": {
   "codemirror_mode": {
    "name": "ipython",
    "version": 3
   },
   "file_extension": ".py",
   "mimetype": "text/x-python",
   "name": "python",
   "nbconvert_exporter": "python",
   "pygments_lexer": "ipython3",
   "version": "3.11.3"
  },
  "orig_nbformat": 4
 },
 "nbformat": 4,
 "nbformat_minor": 2
}
