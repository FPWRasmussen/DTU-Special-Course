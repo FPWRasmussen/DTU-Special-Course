{
 "cells": [
  {
   "cell_type": "markdown",
   "metadata": {},
   "source": [
    "# Geometrical spreading of sound\n",
    "As a point source extends from its origin, the intensity diminishes inversely proportional to the distance traveled, following the Inverse-square law. In the context of noise propagation, this phenomenon significantly influences the attenuation of turbine noise levels.\n",
    "\n",
    "<img src=\"../../jupyter-book/images/inverse_square_law.png\" alt=\"inverse_square_law\" width=\"600px\" class=\"bg-primary\"/>\n",
    "\n",
    "*Fig 1: S denotes the noise source, and r represents the measured points. The lines illustrate noise propagation from the sources. The total noise lines, linked to source strength, remain constant, but denser lines indicate a louder noise field. The line density is inversely proportional to distance from the source squared, reflecting increased surface area on a sphere. Consequently, noise intensity inversely scales with the square of the distance from the source ([Source](https://en.wikipedia.org/wiki/Inverse-square_law)).*"
   ]
  },
  {
   "cell_type": "code",
   "execution_count": 1,
   "metadata": {
    "tags": [
     "hide-input",
     "thebe-init"
    ]
   },
   "outputs": [],
   "source": [
    "import numpy as np\n",
    "import matplotlib.pyplot as plt\n",
    "from matplotlib.animation import FuncAnimation, PillowWriter\n",
    "from IPython.display import Image"
   ]
  },
  {
   "cell_type": "markdown",
   "metadata": {},
   "source": [
    "## Derivation\n",
    "\n",
    "The intensity, $I$, measured in watts per square meter ($W/m^2$), is a fundamental quantity in acoustics. The sound power of a source, denoted as $P$, can be related to intensity through the formula:\n",
    "\n",
    "$$ I = \\dfrac{P}{4 \\pi r^2} = \\dfrac{p^2}{\\rho c} = \\dfrac{p^2}{z_0} $$\n",
    "\n",
    "Here, $z_0$ represents the characteristic specific acoustic impedance as is equal to $z_0 = 400 \\text{Pa} \\cdot \\text{s}/\\text{m}$.\n",
    "\n",
    "Rearranging the equation in terms of sound power $P$, we get:\n",
    "\n",
    "$$ P = \\dfrac{p^2}{z_0}4 \\pi r^2 $$\n",
    "\n",
    "In the context of a reference sound power $P_0 = 10^{-12} \\text{W}$, the ratio $\\dfrac{P}{P_0}$ can be expressed as:\n",
    "\n",
    "$$ \\dfrac{P}{P_0} = \\dfrac{p_0^2}{P_0} \\dfrac{p^2}{p_0^2} \\dfrac{1}{z_0} 4 \\pi r^2$$\n",
    "\n",
    "Where the reference sound pressure is $p_0 = 2\\cdot 10^{-5} \\text{Pa}$. Taking the logarithm of both sides, we arrive at:\n",
    "\n",
    "$$ 10\\log\\left(\\dfrac{P}{P_0}\\right) = 10\\log\\left(\\dfrac{p_0^2}{P_0} \\dfrac{p^2}{p_0^2} \\dfrac{1}{z_0} 4 \\pi r^2\\right) $$\n",
    "\n",
    "This expression can be further simplified to represent the sound power level as $L_W = 10\\log\\left(\\dfrac{P}{P_0}\\right)$ and the sound pressure level as $L_P = 10\\log\\left(\\dfrac{p^2}{p_0^2}\\right)$:\n",
    "\n",
    "$$ L_W = L_P + 10\\log\\left(\\dfrac{p_0^2}{P_0 z_0}4 \\pi r^2\\right) $$\n",
    "\n",
    "With the used reference values $\\dfrac{p_0^2}{P_0 z_0} = 1$, and the equation simplifies to:\n",
    "\n",
    "$$ L_W = L_P + 20\\log(r) + 10\\log(4 \\pi) $$\n",
    "\n",
    "Lastly, be rearranging the equation, the final expression for the sound pressure level can be found:\n",
    "\n",
    "$$ L_P = L_W - 20\\log(r) - 10\\log(4 \\pi) \\approx  L_W - 20\\log(r) - 11 $$\n",
    "\n",
    "This derivation provides insights into the relationship between sound power, intensity, and their representation in logarithmic scales."
   ]
  },
  {
   "cell_type": "markdown",
   "metadata": {},
   "source": [
    "### Application of function\n",
    "Utilizing the formula on a fluctuating noise signal, oscillating between 0 dB and 100 dB, reveals the impact of geometrical spreading on the noise amplitude. It's worth mentioning that this effect is not exclusive to oscillating values; I chose to create the plot simply because of its visually interesting representation."
   ]
  },
  {
   "cell_type": "code",
   "execution_count": 2,
   "metadata": {},
   "outputs": [
    {
     "ename": "FileNotFoundError",
     "evalue": "[Errno 2] No such file or directory: '../../temp'",
     "output_type": "error",
     "traceback": [
      "\u001b[0;31m---------------------------------------------------------------------------\u001b[0m",
      "\u001b[0;31mFileNotFoundError\u001b[0m                         Traceback (most recent call last)",
      "Cell \u001b[0;32mIn[2], line 34\u001b[0m\n\u001b[1;32m     31\u001b[0m     ax\u001b[38;5;241m.\u001b[39mimshow(wave, cmap\u001b[38;5;241m=\u001b[39m\u001b[38;5;124m'\u001b[39m\u001b[38;5;124mjet\u001b[39m\u001b[38;5;124m'\u001b[39m, origin\u001b[38;5;241m=\u001b[39m\u001b[38;5;124m'\u001b[39m\u001b[38;5;124mlower\u001b[39m\u001b[38;5;124m'\u001b[39m, extent\u001b[38;5;241m=\u001b[39m[\u001b[38;5;241m-\u001b[39mwidth, width, \u001b[38;5;241m-\u001b[39mheight, height], vmin\u001b[38;5;241m=\u001b[39m\u001b[38;5;241m0\u001b[39m, vmax\u001b[38;5;241m=\u001b[39mamplitude)\n\u001b[1;32m     32\u001b[0m animation \u001b[38;5;241m=\u001b[39m FuncAnimation(fig, update, frames\u001b[38;5;241m=\u001b[39m \u001b[38;5;28mint\u001b[39m(duration \u001b[38;5;241m*\u001b[39m fps), interval\u001b[38;5;241m=\u001b[39m \u001b[38;5;241m1\u001b[39m\u001b[38;5;241m/\u001b[39mfps)\n\u001b[0;32m---> 34\u001b[0m animation\u001b[38;5;241m.\u001b[39msave(\u001b[38;5;124m'\u001b[39m\u001b[38;5;124m../../temp/ripple.gif\u001b[39m\u001b[38;5;124m'\u001b[39m,writer\u001b[38;5;241m=\u001b[39mPillowWriter(fps\u001b[38;5;241m=\u001b[39mfps))\n\u001b[1;32m     35\u001b[0m Image(\u001b[38;5;28mopen\u001b[39m(\u001b[38;5;124m'\u001b[39m\u001b[38;5;124m../../temp/ripple.gif\u001b[39m\u001b[38;5;124m'\u001b[39m,\u001b[38;5;124m'\u001b[39m\u001b[38;5;124mrb\u001b[39m\u001b[38;5;124m'\u001b[39m)\u001b[38;5;241m.\u001b[39mread())\n",
      "File \u001b[0;32m~/anaconda3/envs/WindBro/lib/python3.11/site-packages/matplotlib/animation.py:1085\u001b[0m, in \u001b[0;36mAnimation.save\u001b[0;34m(self, filename, writer, fps, dpi, codec, bitrate, extra_args, metadata, extra_anim, savefig_kwargs, progress_callback)\u001b[0m\n\u001b[1;32m   1081\u001b[0m savefig_kwargs[\u001b[38;5;124m'\u001b[39m\u001b[38;5;124mtransparent\u001b[39m\u001b[38;5;124m'\u001b[39m] \u001b[38;5;241m=\u001b[39m \u001b[38;5;28;01mFalse\u001b[39;00m   \u001b[38;5;66;03m# just to be safe!\u001b[39;00m\n\u001b[1;32m   1082\u001b[0m \u001b[38;5;66;03m# canvas._is_saving = True makes the draw_event animation-starting\u001b[39;00m\n\u001b[1;32m   1083\u001b[0m \u001b[38;5;66;03m# callback a no-op; canvas.manager = None prevents resizing the GUI\u001b[39;00m\n\u001b[1;32m   1084\u001b[0m \u001b[38;5;66;03m# widget (both are likewise done in savefig()).\u001b[39;00m\n\u001b[0;32m-> 1085\u001b[0m \u001b[38;5;28;01mwith\u001b[39;00m mpl\u001b[38;5;241m.\u001b[39mrc_context({\u001b[38;5;124m'\u001b[39m\u001b[38;5;124msavefig.bbox\u001b[39m\u001b[38;5;124m'\u001b[39m: \u001b[38;5;28;01mNone\u001b[39;00m}), \\\n\u001b[1;32m   1086\u001b[0m      writer\u001b[38;5;241m.\u001b[39msaving(\u001b[38;5;28mself\u001b[39m\u001b[38;5;241m.\u001b[39m_fig, filename, dpi), \\\n\u001b[1;32m   1087\u001b[0m      cbook\u001b[38;5;241m.\u001b[39m_setattr_cm(\u001b[38;5;28mself\u001b[39m\u001b[38;5;241m.\u001b[39m_fig\u001b[38;5;241m.\u001b[39mcanvas,\n\u001b[1;32m   1088\u001b[0m                        _is_saving\u001b[38;5;241m=\u001b[39m\u001b[38;5;28;01mTrue\u001b[39;00m, manager\u001b[38;5;241m=\u001b[39m\u001b[38;5;28;01mNone\u001b[39;00m):\n\u001b[1;32m   1089\u001b[0m     \u001b[38;5;28;01mfor\u001b[39;00m anim \u001b[38;5;129;01min\u001b[39;00m all_anim:\n\u001b[1;32m   1090\u001b[0m         anim\u001b[38;5;241m.\u001b[39m_init_draw()  \u001b[38;5;66;03m# Clear the initial frame\u001b[39;00m\n",
      "File \u001b[0;32m~/anaconda3/envs/WindBro/lib/python3.11/contextlib.py:137\u001b[0m, in \u001b[0;36m_GeneratorContextManager.__enter__\u001b[0;34m(self)\u001b[0m\n\u001b[1;32m    135\u001b[0m \u001b[38;5;28;01mdel\u001b[39;00m \u001b[38;5;28mself\u001b[39m\u001b[38;5;241m.\u001b[39margs, \u001b[38;5;28mself\u001b[39m\u001b[38;5;241m.\u001b[39mkwds, \u001b[38;5;28mself\u001b[39m\u001b[38;5;241m.\u001b[39mfunc\n\u001b[1;32m    136\u001b[0m \u001b[38;5;28;01mtry\u001b[39;00m:\n\u001b[0;32m--> 137\u001b[0m     \u001b[38;5;28;01mreturn\u001b[39;00m \u001b[38;5;28mnext\u001b[39m(\u001b[38;5;28mself\u001b[39m\u001b[38;5;241m.\u001b[39mgen)\n\u001b[1;32m    138\u001b[0m \u001b[38;5;28;01mexcept\u001b[39;00m \u001b[38;5;167;01mStopIteration\u001b[39;00m:\n\u001b[1;32m    139\u001b[0m     \u001b[38;5;28;01mraise\u001b[39;00m \u001b[38;5;167;01mRuntimeError\u001b[39;00m(\u001b[38;5;124m\"\u001b[39m\u001b[38;5;124mgenerator didn\u001b[39m\u001b[38;5;124m'\u001b[39m\u001b[38;5;124mt yield\u001b[39m\u001b[38;5;124m\"\u001b[39m) \u001b[38;5;28;01mfrom\u001b[39;00m \u001b[38;5;28;01mNone\u001b[39;00m\n",
      "File \u001b[0;32m~/anaconda3/envs/WindBro/lib/python3.11/site-packages/matplotlib/animation.py:231\u001b[0m, in \u001b[0;36mAbstractMovieWriter.saving\u001b[0;34m(self, fig, outfile, dpi, *args, **kwargs)\u001b[0m\n\u001b[1;32m    225\u001b[0m \u001b[38;5;250m\u001b[39m\u001b[38;5;124;03m\"\"\"\u001b[39;00m\n\u001b[1;32m    226\u001b[0m \u001b[38;5;124;03mContext manager to facilitate writing the movie file.\u001b[39;00m\n\u001b[1;32m    227\u001b[0m \n\u001b[1;32m    228\u001b[0m \u001b[38;5;124;03m``*args, **kw`` are any parameters that should be passed to `setup`.\u001b[39;00m\n\u001b[1;32m    229\u001b[0m \u001b[38;5;124;03m\"\"\"\u001b[39;00m\n\u001b[1;32m    230\u001b[0m \u001b[38;5;66;03m# This particular sequence is what contextlib.contextmanager wants\u001b[39;00m\n\u001b[0;32m--> 231\u001b[0m \u001b[38;5;28mself\u001b[39m\u001b[38;5;241m.\u001b[39msetup(fig, outfile, dpi, \u001b[38;5;241m*\u001b[39margs, \u001b[38;5;241m*\u001b[39m\u001b[38;5;241m*\u001b[39mkwargs)\n\u001b[1;32m    232\u001b[0m \u001b[38;5;28;01mtry\u001b[39;00m:\n\u001b[1;32m    233\u001b[0m     \u001b[38;5;28;01myield\u001b[39;00m \u001b[38;5;28mself\u001b[39m\n",
      "File \u001b[0;32m~/anaconda3/envs/WindBro/lib/python3.11/site-packages/matplotlib/animation.py:490\u001b[0m, in \u001b[0;36mPillowWriter.setup\u001b[0;34m(self, fig, outfile, dpi)\u001b[0m\n\u001b[1;32m    489\u001b[0m \u001b[38;5;28;01mdef\u001b[39;00m \u001b[38;5;21msetup\u001b[39m(\u001b[38;5;28mself\u001b[39m, fig, outfile, dpi\u001b[38;5;241m=\u001b[39m\u001b[38;5;28;01mNone\u001b[39;00m):\n\u001b[0;32m--> 490\u001b[0m     \u001b[38;5;28msuper\u001b[39m()\u001b[38;5;241m.\u001b[39msetup(fig, outfile, dpi\u001b[38;5;241m=\u001b[39mdpi)\n\u001b[1;32m    491\u001b[0m     \u001b[38;5;28mself\u001b[39m\u001b[38;5;241m.\u001b[39m_frames \u001b[38;5;241m=\u001b[39m []\n",
      "File \u001b[0;32m~/anaconda3/envs/WindBro/lib/python3.11/site-packages/matplotlib/animation.py:197\u001b[0m, in \u001b[0;36mAbstractMovieWriter.setup\u001b[0;34m(self, fig, outfile, dpi)\u001b[0m\n\u001b[1;32m    183\u001b[0m \u001b[38;5;250m\u001b[39m\u001b[38;5;124;03m\"\"\"\u001b[39;00m\n\u001b[1;32m    184\u001b[0m \u001b[38;5;124;03mSetup for writing the movie file.\u001b[39;00m\n\u001b[1;32m    185\u001b[0m \n\u001b[0;32m   (...)\u001b[0m\n\u001b[1;32m    194\u001b[0m \u001b[38;5;124;03m    in pixels of the resulting movie file.\u001b[39;00m\n\u001b[1;32m    195\u001b[0m \u001b[38;5;124;03m\"\"\"\u001b[39;00m\n\u001b[1;32m    196\u001b[0m \u001b[38;5;66;03m# Check that path is valid\u001b[39;00m\n\u001b[0;32m--> 197\u001b[0m Path(outfile)\u001b[38;5;241m.\u001b[39mparent\u001b[38;5;241m.\u001b[39mresolve(strict\u001b[38;5;241m=\u001b[39m\u001b[38;5;28;01mTrue\u001b[39;00m)\n\u001b[1;32m    198\u001b[0m \u001b[38;5;28mself\u001b[39m\u001b[38;5;241m.\u001b[39moutfile \u001b[38;5;241m=\u001b[39m outfile\n\u001b[1;32m    199\u001b[0m \u001b[38;5;28mself\u001b[39m\u001b[38;5;241m.\u001b[39mfig \u001b[38;5;241m=\u001b[39m fig\n",
      "File \u001b[0;32m~/anaconda3/envs/WindBro/lib/python3.11/pathlib.py:993\u001b[0m, in \u001b[0;36mPath.resolve\u001b[0;34m(self, strict)\u001b[0m\n\u001b[1;32m    990\u001b[0m         \u001b[38;5;28;01mraise\u001b[39;00m \u001b[38;5;167;01mRuntimeError\u001b[39;00m(\u001b[38;5;124m\"\u001b[39m\u001b[38;5;124mSymlink loop from \u001b[39m\u001b[38;5;132;01m%r\u001b[39;00m\u001b[38;5;124m\"\u001b[39m \u001b[38;5;241m%\u001b[39m e\u001b[38;5;241m.\u001b[39mfilename)\n\u001b[1;32m    992\u001b[0m \u001b[38;5;28;01mtry\u001b[39;00m:\n\u001b[0;32m--> 993\u001b[0m     s \u001b[38;5;241m=\u001b[39m os\u001b[38;5;241m.\u001b[39mpath\u001b[38;5;241m.\u001b[39mrealpath(\u001b[38;5;28mself\u001b[39m, strict\u001b[38;5;241m=\u001b[39mstrict)\n\u001b[1;32m    994\u001b[0m \u001b[38;5;28;01mexcept\u001b[39;00m \u001b[38;5;167;01mOSError\u001b[39;00m \u001b[38;5;28;01mas\u001b[39;00m e:\n\u001b[1;32m    995\u001b[0m     check_eloop(e)\n",
      "File \u001b[0;32m<frozen posixpath>:416\u001b[0m, in \u001b[0;36mrealpath\u001b[0;34m(filename, strict)\u001b[0m\n",
      "File \u001b[0;32m<frozen posixpath>:451\u001b[0m, in \u001b[0;36m_joinrealpath\u001b[0;34m(path, rest, strict, seen)\u001b[0m\n",
      "\u001b[0;31mFileNotFoundError\u001b[0m: [Errno 2] No such file or directory: '../../temp'"
     ]
    }
   ],
   "source": [
    "width = 3000  # Width of the simulation grid\n",
    "height = width  # Height of the simulation grid\n",
    "center_x =0 # # X-coordinate of the point source\n",
    "center_y = 0 #  # Y-coordinate of the point source\n",
    "frequency = 0.5 # frequency\n",
    "amplitude = 100  # Amplitude of the oscillation\n",
    "speed = 300  # Speed of wave propagation\n",
    "duration = 3 # Duration of the simulation\n",
    "fps = 10  # Frames per second\n",
    "res = 500\n",
    "wavelength = speed / frequency\n",
    "angular_frequency = 2 * np.pi * frequency\n",
    "wave_number = 2 * np.pi / wavelength\n",
    "\n",
    "x, y = np.meshgrid(np.linspace(-width, width, res), np.linspace(-height, height, res))\n",
    "\n",
    "fig,ax = plt.subplots()\n",
    "time = 0 / fps\n",
    "distance = np.sqrt((x - center_x)**2 + (y - center_y)**2)\n",
    "wave = np.abs(np.maximum(0, (amplitude - 20*np.log10(distance) - 11)) * np.sin(angular_frequency * time - wave_number * distance))\n",
    "cb = ax.imshow(wave, cmap='jet', origin='lower', extent=[-width, width, -height, height], vmin=0, vmax=amplitude)\n",
    "plt.colorbar(cb, ax= ax, label = \"SPL [dB]\")\n",
    "ax.set(xlabel= \" X [m]\",\n",
    "       ylabel = \"Y [m]\")\n",
    "plt.close()\n",
    "def update(frame):\n",
    "    global grid\n",
    "    time = frame / fps\n",
    "    distance = np.sqrt((x - center_x)**2 + (y - center_y)**2)\n",
    "    wave = np.abs(np.maximum(0,(amplitude - 20*np.log10(distance) - 11)) * np.sin(angular_frequency * time - wave_number* distance))\n",
    "    ax.imshow(wave, cmap='jet', origin='lower', extent=[-width, width, -height, height], vmin=0, vmax=amplitude)\n",
    "animation = FuncAnimation(fig, update, frames= int(duration * fps), interval= 1/fps)\n",
    "\n",
    "animation.save('../../temp/ripple.gif',writer=PillowWriter(fps=fps))\n",
    "Image(open('../../temp/ripple.gif','rb').read())"
   ]
  }
 ],
 "metadata": {
  "kernelspec": {
   "display_name": "WindBro",
   "language": "python",
   "name": "python3"
  },
  "language_info": {
   "codemirror_mode": {
    "name": "ipython",
    "version": 3
   },
   "file_extension": ".py",
   "mimetype": "text/x-python",
   "name": "python",
   "nbconvert_exporter": "python",
   "pygments_lexer": "ipython3",
   "version": "3.11.5"
  }
 },
 "nbformat": 4,
 "nbformat_minor": 2
}