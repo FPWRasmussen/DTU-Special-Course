{
 "cells": [
  {
   "cell_type": "markdown",
   "metadata": {},
   "source": [
    "# Geometrical spreading of sound\n",
    "\n",
    "The unit for intensity, $I$, is watts per square meter [$W/m^2$]\n",
    "\n",
    "W is the sound power of the source\n",
    "\n",
    "$\n",
    "\\begin{equation}\n",
    "I = \\dfrac{W}{4 \\pi r^2} = \\dfrac{p^2}{\\rho c} = \\dfrac{p^2}{z_0}\n",
    "\\end{equation}\n",
    "$\n",
    "\n",
    "$z_0$ : characteristic specific acoustic impedance\n",
    "\n",
    "Rearranging the equation:\n",
    "\n",
    "$\n",
    "\\begin{equation}\n",
    "W = \\dfrac{p^2}{z_0} (4 \\pi r^2)\n",
    "\\end{equation}\n",
    "$\n",
    "\n",
    "$\n",
    "\\begin{equation}\n",
    "\\dfrac{W}{W_0} = \\dfrac{p_0^2}{W_0} \\dfrac{p^2}{p_0^2} \\dfrac{1}{z_0} (4 \\pi r^2)\n",
    "\\end{equation}\n",
    "$\n",
    "\n",
    "\n",
    "$\n",
    "\\begin{equation}\n",
    "10\\log(\\dfrac{W}{W_0}) = 10\\log(\\dfrac{p_0^2}{W_0} \\dfrac{p^2}{p_0^2} \\dfrac{1}{z_0} (4 \\pi r^2))\n",
    "\\end{equation}\n",
    "$\n",
    "\n",
    "$\n",
    "\\begin{equation}\n",
    "L_W = L_P + 10\\log(\\dfrac{p_0^2}{W_0 z_0}(4 \\pi r^2))\n",
    "\\end{equation}\n",
    "$\n",
    "\n",
    "$ \\dfrac{p_0^2}{W_0 z_0} = 1 $\n",
    "\n",
    "$\n",
    "\\begin{equation}\n",
    "L_W = L_P + 20\\log(r) = 10\\log(4 \\pi)\n",
    "\\end{equation}\n",
    "$"
   ]
  },
  {
   "cell_type": "markdown",
   "metadata": {},
   "source": [
    "By applying the formula to an oscillating "
   ]
  },
  {
   "cell_type": "code",
   "execution_count": 1,
   "metadata": {},
   "outputs": [
    {
     "ename": "ModuleNotFoundError",
     "evalue": "No module named 'src.utils'",
     "output_type": "error",
     "traceback": [
      "\u001b[0;31m---------------------------------------------------------------------------\u001b[0m",
      "\u001b[0;31mModuleNotFoundError\u001b[0m                       Traceback (most recent call last)",
      "Cell \u001b[0;32mIn[1], line 5\u001b[0m\n\u001b[1;32m      3\u001b[0m \u001b[38;5;28;01mimport\u001b[39;00m \u001b[38;5;21;01msys\u001b[39;00m\n\u001b[1;32m      4\u001b[0m sys\u001b[38;5;241m.\u001b[39mpath\u001b[38;5;241m.\u001b[39mappend(\u001b[38;5;28mstr\u001b[39m(Path(os\u001b[38;5;241m.\u001b[39mgetcwd())\u001b[38;5;241m.\u001b[39mparent\u001b[38;5;241m.\u001b[39mparent))\n\u001b[0;32m----> 5\u001b[0m \u001b[38;5;28;01mfrom\u001b[39;00m \u001b[38;5;21;01msrc\u001b[39;00m\u001b[38;5;21;01m.\u001b[39;00m\u001b[38;5;21;01mutils\u001b[39;00m \u001b[38;5;28;01mimport\u001b[39;00m print_code\n\u001b[1;32m      6\u001b[0m \u001b[38;5;28;01mimport\u001b[39;00m \u001b[38;5;21;01mnumpy\u001b[39;00m \u001b[38;5;28;01mas\u001b[39;00m \u001b[38;5;21;01mnp\u001b[39;00m\n\u001b[1;32m      7\u001b[0m \u001b[38;5;28;01mimport\u001b[39;00m \u001b[38;5;21;01mmatplotlib\u001b[39;00m\u001b[38;5;21;01m.\u001b[39;00m\u001b[38;5;21;01mpyplot\u001b[39;00m \u001b[38;5;28;01mas\u001b[39;00m \u001b[38;5;21;01mplt\u001b[39;00m\n",
      "\u001b[0;31mModuleNotFoundError\u001b[0m: No module named 'src.utils'"
     ]
    }
   ],
   "source": [
    "import os\n",
    "from pathlib import Path\n",
    "import sys\n",
    "sys.path.append(str(Path(os.getcwd()).parent.parent))\n",
    "from src.utils import print_code\n",
    "import numpy as np\n",
    "import matplotlib.pyplot as plt\n",
    "from matplotlib.animation import FuncAnimation, PillowWriter\n",
    "from IPython.display import HTML, display, Image\n",
    "\n",
    "# Constants\n",
    "width = 3000  # Width of the simulation grid\n",
    "height = width  # Height of the simulation grid\n",
    "center_x =0 # # X-coordinate of the point source\n",
    "center_y = 0 #  # Y-coordinate of the point source\n",
    "frequency = 0.5 # frequency\n",
    "amplitude = 100  # Amplitude of the oscillation\n",
    "speed = 300  # Speed of wave propagation\n",
    "duration = 3 # Duration of the simulation\n",
    "fps = 10  # Frames per second\n",
    "res = 500\n",
    "wavelength = speed / frequency\n",
    "angular_frequency = 2 * np.pi * frequency\n",
    "wave_number = 2 * np.pi / wavelength\n",
    "\n",
    "x, y = np.meshgrid(np.linspace(-width, width, res), np.linspace(-height, height, res))\n",
    "\n",
    "fig,ax = plt.subplots()\n",
    "time = 0 / fps\n",
    "distance = np.sqrt((x - center_x)**2 + (y - center_y)**2)\n",
    "wave = np.abs(np.maximum(0, (amplitude - 20*np.log10(distance) - 11)) * np.sin(angular_frequency * time - wave_number * distance))\n",
    "cb = ax.imshow(wave, cmap='jet', origin='lower', extent=[-width, width, -height, height], vmin=0, vmax=amplitude)\n",
    "plt.colorbar(cb, ax= ax, label = \"SPL [dB]\")\n",
    "ax.set(xlabel= \" X [m]\",\n",
    "       ylabel = \"Y [m]\")\n",
    "plt.close()\n",
    "def update(frame):\n",
    "    global grid\n",
    "    time = frame / fps\n",
    "    distance = np.sqrt((x - center_x)**2 + (y - center_y)**2)\n",
    "    wave = np.abs(np.maximum(0,(amplitude - 20*np.log10(distance) - 11)) * np.sin(angular_frequency * time - wave_number* distance))\n",
    "    ax.imshow(wave, cmap='jet', origin='lower', extent=[-width, width, -height, height], vmin=0, vmax=amplitude)\n",
    "animation = FuncAnimation(fig, update, frames= int(duration * fps), interval= 1/fps)\n",
    "\n",
    "animation.save('../../temp/ripple.gif',writer=PillowWriter(fps=fps))\n",
    "Image(open('../../temp/ripple.gif','rb').read())"
   ]
  }
 ],
 "metadata": {
  "kernelspec": {
   "display_name": "WindBro",
   "language": "python",
   "name": "python3"
  },
  "language_info": {
   "codemirror_mode": {
    "name": "ipython",
    "version": 3
   },
   "file_extension": ".py",
   "mimetype": "text/x-python",
   "name": "python",
   "nbconvert_exporter": "python",
   "pygments_lexer": "ipython3",
   "version": "3.11.5"
  }
 },
 "nbformat": 4,
 "nbformat_minor": 2
}