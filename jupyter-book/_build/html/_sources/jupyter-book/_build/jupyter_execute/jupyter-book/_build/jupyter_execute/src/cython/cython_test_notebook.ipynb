{
 "cells": [
  {
   "cell_type": "code",
   "execution_count": 1,
   "metadata": {},
   "outputs": [
    {
     "ename": "ModuleNotFoundError",
     "evalue": "No module named 'test_bool'",
     "output_type": "error",
     "traceback": [
      "\u001b[0;31m---------------------------------------------------------------------------\u001b[0m",
      "\u001b[0;31mModuleNotFoundError\u001b[0m                       Traceback (most recent call last)",
      "Cell \u001b[0;32mIn[1], line 1\u001b[0m\n\u001b[0;32m----> 1\u001b[0m \u001b[38;5;28;01mimport\u001b[39;00m \u001b[38;5;21;01mtest_bool\u001b[39;00m\n\u001b[1;32m      2\u001b[0m \u001b[38;5;28;01mimport\u001b[39;00m \u001b[38;5;21;01mnumpy\u001b[39;00m \u001b[38;5;28;01mas\u001b[39;00m \u001b[38;5;21;01mnp\u001b[39;00m\n\u001b[1;32m      4\u001b[0m arr \u001b[38;5;241m=\u001b[39m np\u001b[38;5;241m.\u001b[39mzeros(\u001b[38;5;241m5\u001b[39m, dtype \u001b[38;5;241m=\u001b[39m np\u001b[38;5;241m.\u001b[39muint8)\n",
      "\u001b[0;31mModuleNotFoundError\u001b[0m: No module named 'test_bool'"
     ]
    }
   ],
   "source": [
    "import test_bool\n",
    "import numpy as np\n",
    "\n",
    "arr = np.zeros(5, dtype = np.uint8)\n",
    "arr[0] = 1\n",
    "res = test_bool.test_bool(arr)"
   ]
  },
  {
   "cell_type": "code",
   "execution_count": 2,
   "metadata": {},
   "outputs": [
    {
     "name": "stdout",
     "output_type": "stream",
     "text": [
      "[5 5 5]\n",
      "[5 5 4]\n",
      "[5 5 3]\n",
      "[5 5 2]\n",
      "[5 4 4]\n",
      "[5 4 3]\n",
      "[5 4 2]\n",
      "[5 5 5]\n",
      "[5 5 4]\n",
      "[5 5 3]\n",
      "[5 5 2]\n",
      "[5 4 4]\n",
      "[5 4 3]\n",
      "[5 4 2]\n",
      "[[0 0 0 0 0 0 0 0 0 0]\n",
      " [0 0 0 0 0 0 0 0 0 0]\n",
      " [0 0 0 0 0 0 0 0 0 0]\n",
      " [0 0 0 0 0 0 0 0 0 0]\n",
      " [0 0 0 0 0 2 0 0 0 0]\n",
      " [0 0 0 0 0 2 0 0 0 0]\n",
      " [0 0 0 0 0 0 0 0 0 0]\n",
      " [0 0 0 0 0 0 0 0 0 0]\n",
      " [0 0 0 0 0 0 0 0 0 0]\n",
      " [0 0 0 0 0 0 0 0 0 0]]\n"
     ]
    },
    {
     "name": "stderr",
     "output_type": "stream",
     "text": [
      "/tmp/ipykernel_4761/826828556.py:12: RuntimeWarning: divide by zero encountered in divide\n",
      "  res = solve_shadow_map.solve_shadow_map_cy(ray_point, ray_vec, minBound, maxBound, terrain_voxel_map)\n"
     ]
    }
   ],
   "source": [
    "import solve_shadow_map\n",
    "import numpy as np\n",
    "\n",
    "ray_point = np.array([[5, 5, 5.4], [5, 4, 4.4]], dtype = np.float32)\n",
    "ray_vec = np.array([[0.0, 0.0, -1], [0.0, 0.0, -1]], dtype = np.float32)\n",
    "minBound = np.array([0, 0, 0], dtype = np.float32)\n",
    "maxBound = np.array([10, 10, 10], dtype = np.float32)\n",
    "terrain_voxel_map = np.zeros([10, 10, 10], dtype = np.uint8)\n",
    "terrain_voxel_map[:, :, 0] = 1\n",
    "terrain_voxel_map[:, :, 1] = 1\n",
    "\n",
    "res = solve_shadow_map.solve_shadow_map_cy(ray_point, ray_vec, minBound, maxBound, terrain_voxel_map)\n",
    "print(res)"
   ]
  }
 ],
 "metadata": {
  "kernelspec": {
   "display_name": "WindBro",
   "language": "python",
   "name": "python3"
  },
  "language_info": {
   "codemirror_mode": {
    "name": "ipython",
    "version": 3
   },
   "file_extension": ".py",
   "mimetype": "text/x-python",
   "name": "python",
   "nbconvert_exporter": "python",
   "pygments_lexer": "ipython3",
   "version": "3.11.5"
  }
 },
 "nbformat": 4,
 "nbformat_minor": 2
}