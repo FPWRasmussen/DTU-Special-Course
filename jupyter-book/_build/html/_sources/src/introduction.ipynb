{
 "cells": [
  {
   "cell_type": "markdown",
   "metadata": {},
   "source": [
    "<!DOCTYPE html> <html> <head> <title>Wind Energy Impact Analysis Tools</title> </head> <body> <h1>Wind Energy Analysis Tools</h1> <p> This repository contains a collection of Jupyter notebooks developed as a part of the special course \"Noise and Visual Impact Analysis in Wind Energy\" at DTU (Technical University of Denmark). The notebooks are designed to assist in wind turbine impact assessments, specifically addressing shadow flickering, noise calculations (ISO 9613-2), and generating visual impact assessments using the Google Street View API. </p> <h2>Disclaimer</h2> <p> This project is a student initiative, and as such, the author does not assume any liability or provide any warranty for the quality of the product. Users are encouraged to contribute to further development under the terms of the <a href=\"../LICENSE\">GNU Affero General Public License v3.0</a> license agreement. </p> <h2>Usage</h2> <ol> <li> Clone the repository using the following command: <pre><code>git clone https://github.com/FPWRasmussen/DTU-Special-Course.git</code></pre> </li> <li> Execute each individual Jupyter Notebook as needed. You can find the notebooks in the <code>src</code> directory. </li> <li> Alternatively, you can access the deployed GitHub page for direct access to the Jupyter Notebooks: <br> <a href=\"https://fpwrasmussen.github.io/DTU-Special-Course/\">https://fpwrasmussen.github.io/DTU-Special-Course/</a> </li> </ol> <h2>Acknowledgments</h2> <p> Special thanks to the course instructors at the DTU Wind department for their guidance and support during the development of these tools. </p> </body> </html>"
   ]
  }
 ],
 "metadata": {
  "language_info": {
   "name": "python"
  },
  "orig_nbformat": 4
 },
 "nbformat": 4,
 "nbformat_minor": 2
}
